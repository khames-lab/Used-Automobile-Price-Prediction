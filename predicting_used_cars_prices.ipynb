{
  "nbformat": 4,
  "nbformat_minor": 0,
  "metadata": {
    "colab": {
      "provenance": [],
      "collapsed_sections": [
        "WNpOqcBv1_TS",
        "GWPs4pHm3XoC",
        "vuaJ_S4YB-Hf"
      ]
    },
    "kernelspec": {
      "name": "python3",
      "display_name": "Python 3"
    },
    "language_info": {
      "name": "python"
    }
  },
  "cells": [
    {
      "cell_type": "markdown",
      "metadata": {
        "id": "j_3L9dmdySg7"
      },
      "source": [
        "\n",
        "The notebook is about predicting used cars prices based on a provided dataset. In order to achieve this goal, we had to make some basic milestones. The following plan describes the steps we followed in this journey\n",
        "\n",
        "**I - Data Analysis**\n",
        "1.   Data Exploration\n",
        "2.   Outliers Handling\n",
        "3.   Feature Engeneering\n",
        "4.   Handeling missing values\n",
        "5.   Feature selection\n",
        "6.   Bivariate Analysis\n",
        "\n",
        "**II  - Modeling**\n",
        "1. Linear regression models\n",
        "2. Random forests\n",
        "3. Xgboost (Extreem Gradient boosting)\n",
        "\n",
        "**III - Interprtability with SHAP**"
      ]
    },
    {
      "cell_type": "code",
      "metadata": {
        "id": "gIH6l-Pax7Fl"
      },
      "source": [
        "# import all libraries\n",
        "import pandas as pd \n",
        "import numpy as np\n",
        "from math import sqrt\n",
        "\n",
        "import seaborn as sns\n",
        "import matplotlib.pyplot as plt\n",
        "\n",
        "import sklearn\n",
        "from sklearn.model_selection import train_test_split,cross_val_score,KFold,GridSearchCV\n",
        "from sklearn.preprocessing import MinMaxScaler,PolynomialFeatures,scale,OrdinalEncoder\n",
        "from sklearn.feature_selection import RFE,VarianceThreshold\n",
        "from sklearn.linear_model import LinearRegression\n",
        "from sklearn.pipeline import make_pipeline\n",
        "from sklearn.impute import KNNImputer\n",
        "from sklearn.metrics import mean_squared_error, r2_score\n",
        "\n",
        "from scipy import stats\n",
        "import xgboost as xgb\n",
        "import re\n",
        "import warnings # supress warnings\n",
        "warnings.filterwarnings('ignore')\n",
        "%matplotlib inline"
      ],
      "execution_count": null,
      "outputs": []
    },
    {
      "cell_type": "code",
      "metadata": {
        "id": "EV0AXu0kvKzW"
      },
      "source": [
        "def barplotsColumns(autos,nLower = 2,nUpper = 100):\n",
        "    \"\"\"\n",
        "    Function to vizualize Barplots with respect to different columns.\n",
        "    :autos: Dataframe\n",
        "    :nLower: Lower bound of variable occurances\n",
        "    :nUpper: Upper bound of variable occurances\n",
        "    :return: Different figures\n",
        "    \"\"\"\n",
        "    autos = autos[[col for col in autos if autos.nunique()[col] > nLower and autos.nunique()[col] < nUpper]] \n",
        "    _, nCol = autos.shape\n",
        "    nGraphRow = (nCol + 5 - 1) / 5\n",
        "    plt.figure(num = None, figsize = (6 * 5, 3 * nGraphRow), dpi = 80, facecolor = 'w', edgecolor = 'k')\n",
        "    for i in range(nCol):\n",
        "        plt.subplot(nGraphRow, 5, i + 1)\n",
        "        columnDf = autos.iloc[:, i]\n",
        "        if (not np.issubdtype(type(columnDf.iloc[0]), np.number)):\n",
        "            valueCounts = columnDf.value_counts()\n",
        "            valueCounts.plot.bar()\n",
        "        else:\n",
        "            columnDf.hist()\n",
        "        plt.ylabel('Counts')\n",
        "        plt.title('{}'.format(list(autos)[i]))\n",
        "    plt.show()\n",
        "\n",
        "def outliers(df, variable,scale):\n",
        "    \"\"\"\n",
        "  Function to remove outliers from datasets using the Standard deviation method\n",
        "  :df: Dataframe\n",
        "  :variable: variable in question\n",
        "  :return: loxer and upper limits. Anything that doesn’t come between these two limits will be considered as outliers\n",
        "  \n",
        "  \"\"\"\n",
        "    upper_limit = df[variable].mean() + scale * df[variable].std()\n",
        "    lower_limit = df[variable].mean() - scale * df[variable].std()\n",
        "    return upper_limit, lower_limit"
      ],
      "execution_count": null,
      "outputs": []
    },
    {
      "cell_type": "markdown",
      "metadata": {
        "id": "WNpOqcBv1_TS"
      },
      "source": [
        "## **I - Data analysis**"
      ]
    },
    {
      "cell_type": "markdown",
      "metadata": {
        "id": "vRIdZ8SJ0C7z"
      },
      "source": [
        "**1. Data Exploration**"
      ]
    },
    {
      "cell_type": "code",
      "metadata": {
        "id": "UP6n9jLeoUvV"
      },
      "source": [
        "path = ''\n",
        "autos = pd.read_csv(path + 'autos.csv',encoding='latin-1')"
      ],
      "execution_count": null,
      "outputs": []
    },
    {
      "cell_type": "code",
      "metadata": {
        "id": "0nnRBe9UpTWO",
        "colab": {
          "base_uri": "https://localhost:8080/",
          "height": 263
        },
        "outputId": "3694efbd-06ff-4659-f104-b760c63e75a9"
      },
      "source": [
        "autos.head(3)"
      ],
      "execution_count": null,
      "outputs": [
        {
          "output_type": "execute_result",
          "data": {
            "text/html": [
              "<div>\n",
              "<style scoped>\n",
              "    .dataframe tbody tr th:only-of-type {\n",
              "        vertical-align: middle;\n",
              "    }\n",
              "\n",
              "    .dataframe tbody tr th {\n",
              "        vertical-align: top;\n",
              "    }\n",
              "\n",
              "    .dataframe thead th {\n",
              "        text-align: right;\n",
              "    }\n",
              "</style>\n",
              "<table border=\"1\" class=\"dataframe\">\n",
              "  <thead>\n",
              "    <tr style=\"text-align: right;\">\n",
              "      <th></th>\n",
              "      <th>dateCrawled</th>\n",
              "      <th>name</th>\n",
              "      <th>seller</th>\n",
              "      <th>offerType</th>\n",
              "      <th>price</th>\n",
              "      <th>abtest</th>\n",
              "      <th>vehicleType</th>\n",
              "      <th>yearOfRegistration</th>\n",
              "      <th>gearbox</th>\n",
              "      <th>powerPS</th>\n",
              "      <th>model</th>\n",
              "      <th>kilometer</th>\n",
              "      <th>monthOfRegistration</th>\n",
              "      <th>fuelType</th>\n",
              "      <th>brand</th>\n",
              "      <th>notRepairedDamage</th>\n",
              "      <th>dateCreated</th>\n",
              "      <th>nrOfPictures</th>\n",
              "      <th>postalCode</th>\n",
              "      <th>lastSeen</th>\n",
              "    </tr>\n",
              "  </thead>\n",
              "  <tbody>\n",
              "    <tr>\n",
              "      <th>0</th>\n",
              "      <td>2016-03-24 11:52:17</td>\n",
              "      <td>Golf_3_1.6</td>\n",
              "      <td>privat</td>\n",
              "      <td>Angebot</td>\n",
              "      <td>480</td>\n",
              "      <td>test</td>\n",
              "      <td>NaN</td>\n",
              "      <td>1993</td>\n",
              "      <td>manuell</td>\n",
              "      <td>0</td>\n",
              "      <td>golf</td>\n",
              "      <td>150000</td>\n",
              "      <td>0</td>\n",
              "      <td>benzin</td>\n",
              "      <td>volkswagen</td>\n",
              "      <td>NaN</td>\n",
              "      <td>2016-03-24 00:00:00</td>\n",
              "      <td>0</td>\n",
              "      <td>70435</td>\n",
              "      <td>2016-04-07 03:16:57</td>\n",
              "    </tr>\n",
              "    <tr>\n",
              "      <th>1</th>\n",
              "      <td>2016-03-24 10:58:45</td>\n",
              "      <td>A5_Sportback_2.7_Tdi</td>\n",
              "      <td>privat</td>\n",
              "      <td>Angebot</td>\n",
              "      <td>18300</td>\n",
              "      <td>test</td>\n",
              "      <td>coupe</td>\n",
              "      <td>2011</td>\n",
              "      <td>manuell</td>\n",
              "      <td>190</td>\n",
              "      <td>NaN</td>\n",
              "      <td>125000</td>\n",
              "      <td>5</td>\n",
              "      <td>diesel</td>\n",
              "      <td>audi</td>\n",
              "      <td>ja</td>\n",
              "      <td>2016-03-24 00:00:00</td>\n",
              "      <td>0</td>\n",
              "      <td>66954</td>\n",
              "      <td>2016-04-07 01:46:50</td>\n",
              "    </tr>\n",
              "    <tr>\n",
              "      <th>2</th>\n",
              "      <td>2016-03-14 12:52:21</td>\n",
              "      <td>Jeep_Grand_Cherokee_\"Overland\"</td>\n",
              "      <td>privat</td>\n",
              "      <td>Angebot</td>\n",
              "      <td>9800</td>\n",
              "      <td>test</td>\n",
              "      <td>suv</td>\n",
              "      <td>2004</td>\n",
              "      <td>automatik</td>\n",
              "      <td>163</td>\n",
              "      <td>grand</td>\n",
              "      <td>125000</td>\n",
              "      <td>8</td>\n",
              "      <td>diesel</td>\n",
              "      <td>jeep</td>\n",
              "      <td>NaN</td>\n",
              "      <td>2016-03-14 00:00:00</td>\n",
              "      <td>0</td>\n",
              "      <td>90480</td>\n",
              "      <td>2016-04-05 12:47:46</td>\n",
              "    </tr>\n",
              "  </tbody>\n",
              "</table>\n",
              "</div>"
            ],
            "text/plain": [
              "           dateCrawled  ...             lastSeen\n",
              "0  2016-03-24 11:52:17  ...  2016-04-07 03:16:57\n",
              "1  2016-03-24 10:58:45  ...  2016-04-07 01:46:50\n",
              "2  2016-03-14 12:52:21  ...  2016-04-05 12:47:46\n",
              "\n",
              "[3 rows x 20 columns]"
            ]
          },
          "metadata": {},
          "execution_count": 390
        }
      ]
    },
    {
      "cell_type": "code",
      "metadata": {
        "colab": {
          "base_uri": "https://localhost:8080/"
        },
        "id": "JpUMdky2jIL8",
        "outputId": "ab3bc894-6059-4c17-b2be-497e526c0fbd"
      },
      "source": [
        "autos.shape"
      ],
      "execution_count": null,
      "outputs": [
        {
          "output_type": "execute_result",
          "data": {
            "text/plain": [
              "(371528, 20)"
            ]
          },
          "metadata": {},
          "execution_count": 391
        }
      ]
    },
    {
      "cell_type": "code",
      "metadata": {
        "colab": {
          "base_uri": "https://localhost:8080/"
        },
        "id": "gDvp5JfyjIL9",
        "outputId": "1b83033c-cdad-4d52-f9cd-bfe814fce1e3"
      },
      "source": [
        "autos.columns"
      ],
      "execution_count": null,
      "outputs": [
        {
          "output_type": "execute_result",
          "data": {
            "text/plain": [
              "Index(['dateCrawled', 'name', 'seller', 'offerType', 'price', 'abtest',\n",
              "       'vehicleType', 'yearOfRegistration', 'gearbox', 'powerPS', 'model',\n",
              "       'kilometer', 'monthOfRegistration', 'fuelType', 'brand',\n",
              "       'notRepairedDamage', 'dateCreated', 'nrOfPictures', 'postalCode',\n",
              "       'lastSeen'],\n",
              "      dtype='object')"
            ]
          },
          "metadata": {},
          "execution_count": 392
        }
      ]
    },
    {
      "cell_type": "code",
      "metadata": {
        "colab": {
          "base_uri": "https://localhost:8080/"
        },
        "id": "2naxdnyMkHhH",
        "outputId": "9a4dad76-ecc2-4163-f2cf-bd68f521c6fe"
      },
      "source": [
        "autos.info()"
      ],
      "execution_count": null,
      "outputs": [
        {
          "output_type": "stream",
          "name": "stdout",
          "text": [
            "<class 'pandas.core.frame.DataFrame'>\n",
            "RangeIndex: 371528 entries, 0 to 371527\n",
            "Data columns (total 20 columns):\n",
            " #   Column               Non-Null Count   Dtype \n",
            "---  ------               --------------   ----- \n",
            " 0   dateCrawled          371528 non-null  object\n",
            " 1   name                 371528 non-null  object\n",
            " 2   seller               371528 non-null  object\n",
            " 3   offerType            371528 non-null  object\n",
            " 4   price                371528 non-null  int64 \n",
            " 5   abtest               371528 non-null  object\n",
            " 6   vehicleType          333659 non-null  object\n",
            " 7   yearOfRegistration   371528 non-null  int64 \n",
            " 8   gearbox              351319 non-null  object\n",
            " 9   powerPS              371528 non-null  int64 \n",
            " 10  model                351044 non-null  object\n",
            " 11  kilometer            371528 non-null  int64 \n",
            " 12  monthOfRegistration  371528 non-null  int64 \n",
            " 13  fuelType             338142 non-null  object\n",
            " 14  brand                371528 non-null  object\n",
            " 15  notRepairedDamage    299468 non-null  object\n",
            " 16  dateCreated          371528 non-null  object\n",
            " 17  nrOfPictures         371528 non-null  int64 \n",
            " 18  postalCode           371528 non-null  int64 \n",
            " 19  lastSeen             371528 non-null  object\n",
            "dtypes: int64(7), object(13)\n",
            "memory usage: 56.7+ MB\n"
          ]
        }
      ]
    },
    {
      "cell_type": "code",
      "metadata": {
        "colab": {
          "base_uri": "https://localhost:8080/",
          "height": 296
        },
        "id": "uoXDQrduK9zT",
        "outputId": "32452a4d-c03f-443a-f7c2-fa40686792b4"
      },
      "source": [
        "autos.describe()"
      ],
      "execution_count": null,
      "outputs": [
        {
          "output_type": "execute_result",
          "data": {
            "text/html": [
              "<div>\n",
              "<style scoped>\n",
              "    .dataframe tbody tr th:only-of-type {\n",
              "        vertical-align: middle;\n",
              "    }\n",
              "\n",
              "    .dataframe tbody tr th {\n",
              "        vertical-align: top;\n",
              "    }\n",
              "\n",
              "    .dataframe thead th {\n",
              "        text-align: right;\n",
              "    }\n",
              "</style>\n",
              "<table border=\"1\" class=\"dataframe\">\n",
              "  <thead>\n",
              "    <tr style=\"text-align: right;\">\n",
              "      <th></th>\n",
              "      <th>price</th>\n",
              "      <th>yearOfRegistration</th>\n",
              "      <th>powerPS</th>\n",
              "      <th>kilometer</th>\n",
              "      <th>monthOfRegistration</th>\n",
              "      <th>nrOfPictures</th>\n",
              "      <th>postalCode</th>\n",
              "    </tr>\n",
              "  </thead>\n",
              "  <tbody>\n",
              "    <tr>\n",
              "      <th>count</th>\n",
              "      <td>3.715280e+05</td>\n",
              "      <td>371528.000000</td>\n",
              "      <td>371528.000000</td>\n",
              "      <td>371528.000000</td>\n",
              "      <td>371528.000000</td>\n",
              "      <td>371528.0</td>\n",
              "      <td>371528.00000</td>\n",
              "    </tr>\n",
              "    <tr>\n",
              "      <th>mean</th>\n",
              "      <td>1.729514e+04</td>\n",
              "      <td>2004.577997</td>\n",
              "      <td>115.549477</td>\n",
              "      <td>125618.688228</td>\n",
              "      <td>5.734445</td>\n",
              "      <td>0.0</td>\n",
              "      <td>50820.66764</td>\n",
              "    </tr>\n",
              "    <tr>\n",
              "      <th>std</th>\n",
              "      <td>3.587954e+06</td>\n",
              "      <td>92.866598</td>\n",
              "      <td>192.139578</td>\n",
              "      <td>40112.337051</td>\n",
              "      <td>3.712412</td>\n",
              "      <td>0.0</td>\n",
              "      <td>25799.08247</td>\n",
              "    </tr>\n",
              "    <tr>\n",
              "      <th>min</th>\n",
              "      <td>0.000000e+00</td>\n",
              "      <td>1000.000000</td>\n",
              "      <td>0.000000</td>\n",
              "      <td>5000.000000</td>\n",
              "      <td>0.000000</td>\n",
              "      <td>0.0</td>\n",
              "      <td>1067.00000</td>\n",
              "    </tr>\n",
              "    <tr>\n",
              "      <th>25%</th>\n",
              "      <td>1.150000e+03</td>\n",
              "      <td>1999.000000</td>\n",
              "      <td>70.000000</td>\n",
              "      <td>125000.000000</td>\n",
              "      <td>3.000000</td>\n",
              "      <td>0.0</td>\n",
              "      <td>30459.00000</td>\n",
              "    </tr>\n",
              "    <tr>\n",
              "      <th>50%</th>\n",
              "      <td>2.950000e+03</td>\n",
              "      <td>2003.000000</td>\n",
              "      <td>105.000000</td>\n",
              "      <td>150000.000000</td>\n",
              "      <td>6.000000</td>\n",
              "      <td>0.0</td>\n",
              "      <td>49610.00000</td>\n",
              "    </tr>\n",
              "    <tr>\n",
              "      <th>75%</th>\n",
              "      <td>7.200000e+03</td>\n",
              "      <td>2008.000000</td>\n",
              "      <td>150.000000</td>\n",
              "      <td>150000.000000</td>\n",
              "      <td>9.000000</td>\n",
              "      <td>0.0</td>\n",
              "      <td>71546.00000</td>\n",
              "    </tr>\n",
              "    <tr>\n",
              "      <th>max</th>\n",
              "      <td>2.147484e+09</td>\n",
              "      <td>9999.000000</td>\n",
              "      <td>20000.000000</td>\n",
              "      <td>150000.000000</td>\n",
              "      <td>12.000000</td>\n",
              "      <td>0.0</td>\n",
              "      <td>99998.00000</td>\n",
              "    </tr>\n",
              "  </tbody>\n",
              "</table>\n",
              "</div>"
            ],
            "text/plain": [
              "              price  yearOfRegistration  ...  nrOfPictures    postalCode\n",
              "count  3.715280e+05       371528.000000  ...      371528.0  371528.00000\n",
              "mean   1.729514e+04         2004.577997  ...           0.0   50820.66764\n",
              "std    3.587954e+06           92.866598  ...           0.0   25799.08247\n",
              "min    0.000000e+00         1000.000000  ...           0.0    1067.00000\n",
              "25%    1.150000e+03         1999.000000  ...           0.0   30459.00000\n",
              "50%    2.950000e+03         2003.000000  ...           0.0   49610.00000\n",
              "75%    7.200000e+03         2008.000000  ...           0.0   71546.00000\n",
              "max    2.147484e+09         9999.000000  ...           0.0   99998.00000\n",
              "\n",
              "[8 rows x 7 columns]"
            ]
          },
          "metadata": {},
          "execution_count": 394
        }
      ]
    },
    {
      "cell_type": "markdown",
      "metadata": {
        "id": "RdTmZ5cFHqmz"
      },
      "source": [
        "At first sight, we can confirm that quantitative variables such as price (null values), nrOfPictures (no variance) ... have to be eventually processed."
      ]
    },
    {
      "cell_type": "code",
      "metadata": {
        "colab": {
          "base_uri": "https://localhost:8080/",
          "height": 172
        },
        "id": "FNnY4NTdK4IV",
        "outputId": "cb15196a-01ef-4bbd-b284-bb7937b51811"
      },
      "source": [
        "autos.describe(include='object')"
      ],
      "execution_count": null,
      "outputs": [
        {
          "output_type": "execute_result",
          "data": {
            "text/html": [
              "<div>\n",
              "<style scoped>\n",
              "    .dataframe tbody tr th:only-of-type {\n",
              "        vertical-align: middle;\n",
              "    }\n",
              "\n",
              "    .dataframe tbody tr th {\n",
              "        vertical-align: top;\n",
              "    }\n",
              "\n",
              "    .dataframe thead th {\n",
              "        text-align: right;\n",
              "    }\n",
              "</style>\n",
              "<table border=\"1\" class=\"dataframe\">\n",
              "  <thead>\n",
              "    <tr style=\"text-align: right;\">\n",
              "      <th></th>\n",
              "      <th>dateCrawled</th>\n",
              "      <th>name</th>\n",
              "      <th>seller</th>\n",
              "      <th>offerType</th>\n",
              "      <th>abtest</th>\n",
              "      <th>vehicleType</th>\n",
              "      <th>gearbox</th>\n",
              "      <th>model</th>\n",
              "      <th>fuelType</th>\n",
              "      <th>brand</th>\n",
              "      <th>notRepairedDamage</th>\n",
              "      <th>dateCreated</th>\n",
              "      <th>lastSeen</th>\n",
              "    </tr>\n",
              "  </thead>\n",
              "  <tbody>\n",
              "    <tr>\n",
              "      <th>count</th>\n",
              "      <td>371528</td>\n",
              "      <td>371528</td>\n",
              "      <td>371528</td>\n",
              "      <td>371528</td>\n",
              "      <td>371528</td>\n",
              "      <td>333659</td>\n",
              "      <td>351319</td>\n",
              "      <td>351044</td>\n",
              "      <td>338142</td>\n",
              "      <td>371528</td>\n",
              "      <td>299468</td>\n",
              "      <td>371528</td>\n",
              "      <td>371528</td>\n",
              "    </tr>\n",
              "    <tr>\n",
              "      <th>unique</th>\n",
              "      <td>280500</td>\n",
              "      <td>233531</td>\n",
              "      <td>2</td>\n",
              "      <td>2</td>\n",
              "      <td>2</td>\n",
              "      <td>8</td>\n",
              "      <td>2</td>\n",
              "      <td>251</td>\n",
              "      <td>7</td>\n",
              "      <td>40</td>\n",
              "      <td>2</td>\n",
              "      <td>114</td>\n",
              "      <td>182806</td>\n",
              "    </tr>\n",
              "    <tr>\n",
              "      <th>top</th>\n",
              "      <td>2016-03-24 14:49:47</td>\n",
              "      <td>Ford_Fiesta</td>\n",
              "      <td>privat</td>\n",
              "      <td>Angebot</td>\n",
              "      <td>test</td>\n",
              "      <td>limousine</td>\n",
              "      <td>manuell</td>\n",
              "      <td>golf</td>\n",
              "      <td>benzin</td>\n",
              "      <td>volkswagen</td>\n",
              "      <td>nein</td>\n",
              "      <td>2016-04-03 00:00:00</td>\n",
              "      <td>2016-04-07 06:45:59</td>\n",
              "    </tr>\n",
              "    <tr>\n",
              "      <th>freq</th>\n",
              "      <td>7</td>\n",
              "      <td>657</td>\n",
              "      <td>371525</td>\n",
              "      <td>371516</td>\n",
              "      <td>192585</td>\n",
              "      <td>95894</td>\n",
              "      <td>274214</td>\n",
              "      <td>30070</td>\n",
              "      <td>223857</td>\n",
              "      <td>79640</td>\n",
              "      <td>263182</td>\n",
              "      <td>14450</td>\n",
              "      <td>17</td>\n",
              "    </tr>\n",
              "  </tbody>\n",
              "</table>\n",
              "</div>"
            ],
            "text/plain": [
              "                dateCrawled  ...             lastSeen\n",
              "count                371528  ...               371528\n",
              "unique               280500  ...               182806\n",
              "top     2016-03-24 14:49:47  ...  2016-04-07 06:45:59\n",
              "freq                      7  ...                   17\n",
              "\n",
              "[4 rows x 13 columns]"
            ]
          },
          "metadata": {},
          "execution_count": 395
        }
      ]
    },
    {
      "cell_type": "code",
      "metadata": {
        "colab": {
          "base_uri": "https://localhost:8080/",
          "height": 536
        },
        "id": "A4nAgBZHK6UN",
        "outputId": "258180f5-6016-44a8-aa92-445347364c29"
      },
      "source": [
        "barplotsColumns(autos,nLower = 1,nUpper = 100)"
      ],
      "execution_count": null,
      "outputs": [
        {
          "output_type": "display_data",
          "data": {
            "image/png": "[encoded data removed]",
            "text/plain": [
              "<Figure size 2400x672 with 10 Axes>"
            ]
          },
          "metadata": {}
        }
      ]
    },
    {
      "cell_type": "markdown",
      "metadata": {
        "id": "Qb5EIEgDiob7"
      },
      "source": [
        "**2.Outliers Handling**"
      ]
    },
    {
      "cell_type": "markdown",
      "metadata": {
        "id": "lLPZQrujJOsa"
      },
      "source": [
        "The presence of outliers may change the mean and standard deviation of the whole dataset. With tha beeing said, it is important to remove those outliers because presence of those outliers can mislead the model. "
      ]
    },
    {
      "cell_type": "markdown",
      "metadata": {
        "id": "KQBvq7xSkwhR"
      },
      "source": [
        "Price"
      ]
    },
    {
      "cell_type": "code",
      "metadata": {
        "colab": {
          "base_uri": "https://localhost:8080/",
          "height": 297
        },
        "id": "A8XkRaIAiCjj",
        "outputId": "94300fa0-ecbb-420a-b1a5-afc90a6de9cb"
      },
      "source": [
        "sns.boxplot(x = autos['price'])"
      ],
      "execution_count": null,
      "outputs": [
        {
          "output_type": "execute_result",
          "data": {
            "text/plain": [
              "<matplotlib.axes._subplots.AxesSubplot at 0x7f47e711fbd0>"
            ]
          },
          "metadata": {},
          "execution_count": 396
        },
        {
          "output_type": "display_data",
          "data": {
            "image/png": "[encoded data removed]",
            "text/plain": [
              "<Figure size 432x288 with 1 Axes>"
            ]
          },
          "metadata": {
            "needs_background": "light"
          }
        }
      ]
    },
    {
      "cell_type": "markdown",
      "metadata": {
        "id": "6wq3nmUnKApw"
      },
      "source": [
        "We can see that there are some outliers. Now, the goal is detect those outliers"
      ]
    },
    {
      "cell_type": "code",
      "metadata": {
        "colab": {
          "base_uri": "https://localhost:8080/"
        },
        "id": "YrHEluaiiTFM",
        "outputId": "bcdbdc4c-f594-4f01-8868-51ddeb076442"
      },
      "source": [
        "upper, lower = outliers(autos, \"price\",4)\n",
        "lower  = 0.1 #set it manually since prices should be strictly positive.\n",
        "print(\"Upper limit: \", upper)\n",
        "print(\"Lower limit: \", lower)"
      ],
      "execution_count": null,
      "outputs": [
        {
          "output_type": "stream",
          "name": "stdout",
          "text": [
            "Upper limit:  14369110.119507182\n",
            "Lower limit:  0.1\n"
          ]
        }
      ]
    },
    {
      "cell_type": "code",
      "metadata": {
        "colab": {
          "base_uri": "https://localhost:8080/"
        },
        "id": "VthkSwWxjMND",
        "outputId": "9fbc0b77-8228-4a3b-831b-501257a23239"
      },
      "source": [
        "autos[(autos['price'] < lower) | (autos['price'] > upper)].shape"
      ],
      "execution_count": null,
      "outputs": [
        {
          "output_type": "execute_result",
          "data": {
            "text/plain": [
              "(10798, 20)"
            ]
          },
          "metadata": {},
          "execution_count": 398
        }
      ]
    },
    {
      "cell_type": "code",
      "metadata": {
        "id": "u1iqQ5YmjMci"
      },
      "source": [
        "autos = autos[(autos['price'] >= lower) & (autos['price'] <= upper)]"
      ],
      "execution_count": null,
      "outputs": []
    },
    {
      "cell_type": "markdown",
      "metadata": {
        "id": "ZAnJCyc9kzvQ"
      },
      "source": [
        "yearOfRegistration"
      ]
    },
    {
      "cell_type": "code",
      "metadata": {
        "colab": {
          "base_uri": "https://localhost:8080/",
          "height": 297
        },
        "id": "TY4RuHINjM7u",
        "outputId": "01ef5419-29c3-45f2-f972-c9ab703ac444"
      },
      "source": [
        "sns.boxplot(x = autos['postalCode'])"
      ],
      "execution_count": null,
      "outputs": [
        {
          "output_type": "execute_result",
          "data": {
            "text/plain": [
              "<matplotlib.axes._subplots.AxesSubplot at 0x7f47e24ff050>"
            ]
          },
          "metadata": {},
          "execution_count": 400
        },
        {
          "output_type": "display_data",
          "data": {
            "image/png": "[encoded data removed]",
            "text/plain": [
              "<Figure size 432x288 with 1 Axes>"
            ]
          },
          "metadata": {
            "needs_background": "light"
          }
        }
      ]
    },
    {
      "cell_type": "markdown",
      "metadata": {
        "id": "usF6xz7UKWSA"
      },
      "source": [
        "From the above box plot, we can surely observe that there are no outliers in it\n",
        "\n",
        "\n",
        "\n"
      ]
    },
    {
      "cell_type": "markdown",
      "metadata": {
        "id": "u_-K6x_BlS3n"
      },
      "source": [
        "kilometer"
      ]
    },
    {
      "cell_type": "code",
      "metadata": {
        "colab": {
          "base_uri": "https://localhost:8080/",
          "height": 297
        },
        "id": "d0Y6aQ9YlRTT",
        "outputId": "4a3826e8-eb0d-41e0-eaa7-5c33f5793540"
      },
      "source": [
        "sns.boxplot(x = autos['kilometer'])"
      ],
      "execution_count": null,
      "outputs": [
        {
          "output_type": "execute_result",
          "data": {
            "text/plain": [
              "<matplotlib.axes._subplots.AxesSubplot at 0x7f47e2448a90>"
            ]
          },
          "metadata": {},
          "execution_count": 401
        },
        {
          "output_type": "display_data",
          "data": {
            "image/png": "[encoded data removed]",
            "text/plain": [
              "<Figure size 432x288 with 1 Axes>"
            ]
          },
          "metadata": {
            "needs_background": "light"
          }
        }
      ]
    },
    {
      "cell_type": "markdown",
      "metadata": {
        "id": "5zUU-EsXKmeR"
      },
      "source": [
        "From the above box plot, we can surely observe that there are outliers in it. However, they could be tolerated since it correspond to low mileage.\n",
        "\n",
        "\n",
        "\n"
      ]
    },
    {
      "cell_type": "markdown",
      "metadata": {
        "id": "C3Ql44RaLJ_g"
      },
      "source": [
        "postalCode"
      ]
    },
    {
      "cell_type": "code",
      "metadata": {
        "colab": {
          "base_uri": "https://localhost:8080/",
          "height": 297
        },
        "id": "h-CvmHSGKivw",
        "outputId": "c0c8a60a-3a4e-4ed2-e9e1-713d9da429d4"
      },
      "source": [
        "sns.boxplot(x = autos['postalCode'])"
      ],
      "execution_count": null,
      "outputs": [
        {
          "output_type": "execute_result",
          "data": {
            "text/plain": [
              "<matplotlib.axes._subplots.AxesSubplot at 0x7f47e2431490>"
            ]
          },
          "metadata": {},
          "execution_count": 402
        },
        {
          "output_type": "display_data",
          "data": {
            "image/png": "[encoded data removed]",
            "text/plain": [
              "<Figure size 432x288 with 1 Axes>"
            ]
          },
          "metadata": {
            "needs_background": "light"
          }
        }
      ]
    },
    {
      "cell_type": "markdown",
      "metadata": {
        "id": "byBn0iH9LXRQ"
      },
      "source": [
        "powerPS"
      ]
    },
    {
      "cell_type": "code",
      "metadata": {
        "colab": {
          "base_uri": "https://localhost:8080/",
          "height": 297
        },
        "id": "8avAE6L7LX_7",
        "outputId": "e434bd75-f4e2-4a0b-abf7-571fd395d80f"
      },
      "source": [
        "sns.boxplot(x = autos['powerPS'])"
      ],
      "execution_count": null,
      "outputs": [
        {
          "output_type": "execute_result",
          "data": {
            "text/plain": [
              "<matplotlib.axes._subplots.AxesSubplot at 0x7f47e24317d0>"
            ]
          },
          "metadata": {},
          "execution_count": 403
        },
        {
          "output_type": "display_data",
          "data": {
            "image/png": "[encoded data removed]",
            "text/plain": [
              "<Figure size 432x288 with 1 Axes>"
            ]
          },
          "metadata": {
            "needs_background": "light"
          }
        }
      ]
    },
    {
      "cell_type": "code",
      "metadata": {
        "colab": {
          "base_uri": "https://localhost:8080/"
        },
        "id": "bfdL0skoL9Vf",
        "outputId": "76c29c26-3e11-43fb-dc08-b7d2427a761d"
      },
      "source": [
        "upper, lower = outliers(autos, \"powerPS\",4)\n",
        "print(\"Upper limit: \", upper)\n",
        "print(\"Lower limit: \", lower)"
      ],
      "execution_count": null,
      "outputs": [
        {
          "output_type": "stream",
          "name": "stdout",
          "text": [
            "Upper limit:  879.0065599637073\n",
            "Lower limit:  -645.8563589823639\n"
          ]
        }
      ]
    },
    {
      "cell_type": "code",
      "metadata": {
        "id": "P4EAGVJ8MJLn"
      },
      "source": [
        "lower = 0\n",
        "autos = autos[(autos['powerPS'] >= lower) & (autos['powerPS'] <= upper)]"
      ],
      "execution_count": null,
      "outputs": []
    },
    {
      "cell_type": "code",
      "metadata": {
        "id": "BTCjoi-1deeT"
      },
      "source": [
        "autos = autos.reset_index(drop=True)"
      ],
      "execution_count": null,
      "outputs": []
    },
    {
      "cell_type": "code",
      "metadata": {
        "id": "SjNagpqbleEj"
      },
      "source": [
        "prices = autos.price\n",
        "features = autos.drop('price',axis=1)"
      ],
      "execution_count": null,
      "outputs": []
    },
    {
      "cell_type": "markdown",
      "metadata": {
        "id": "V3oPXo-sHG-G"
      },
      "source": [
        "**3.Feature Engineering**"
      ]
    },
    {
      "cell_type": "markdown",
      "metadata": {
        "id": "rtGdiGr6Mwgg"
      },
      "source": [
        "Extracted date related features"
      ]
    },
    {
      "cell_type": "code",
      "metadata": {
        "id": "ojUBJuz9Hz8e"
      },
      "source": [
        "date_columns = ['dateCreated','dateCrawled','lastSeen']"
      ],
      "execution_count": null,
      "outputs": []
    },
    {
      "cell_type": "code",
      "metadata": {
        "id": "ZI6VlpIA3tAW"
      },
      "source": [
        "for date_column in date_columns:\n",
        "  features[date_column] = pd.to_datetime(features[date_column], format = '%Y-%m' ,errors = 'coerce')\n",
        "  features['{}_year'.format(date_column)] = features[date_column].dt.year\n",
        "  features['{}_month'.format(date_column)] = features[date_column].dt.month\n",
        "  features = features.drop(date_column, axis=1)"
      ],
      "execution_count": null,
      "outputs": []
    },
    {
      "cell_type": "code",
      "metadata": {
        "colab": {
          "base_uri": "https://localhost:8080/",
          "height": 321
        },
        "id": "XoCyheJLNFNm",
        "outputId": "88f754af-2183-45cf-f34c-62be86105016"
      },
      "source": [
        "barplotsColumns(features[['{}_year'.format(date_column) for date_column in date_columns]],nLower = 0,nUpper = 100)"
      ],
      "execution_count": null,
      "outputs": [
        {
          "output_type": "display_data",
          "data": {
            "image/png": "[encoded data removed]",
            "text/plain": [
              "<Figure size 2400x336 with 3 Axes>"
            ]
          },
          "metadata": {}
        }
      ]
    },
    {
      "cell_type": "code",
      "metadata": {
        "colab": {
          "base_uri": "https://localhost:8080/",
          "height": 321
        },
        "id": "u2mF5-TV-0w6",
        "outputId": "7d3120cd-d8b0-4735-ed03-35ba041aec99"
      },
      "source": [
        "barplotsColumns(features[['{}_month'.format(date_column) for date_column in date_columns]],nLower = 0,nUpper = 100)"
      ],
      "execution_count": null,
      "outputs": [
        {
          "output_type": "display_data",
          "data": {
            "image/png": "[encoded data removed]",
            "text/plain": [
              "<Figure size 2400x336 with 3 Axes>"
            ]
          },
          "metadata": {}
        }
      ]
    },
    {
      "cell_type": "code",
      "metadata": {
        "id": "qSirzkiwNobl"
      },
      "source": [
        "Eng_date_features_years = ['{}_year'.format(date_column) for date_column in date_columns ]\n",
        "Eng_date_features_months = ['{}_month'.format(date_column) for date_column in date_columns ]"
      ],
      "execution_count": null,
      "outputs": []
    },
    {
      "cell_type": "code",
      "metadata": {
        "colab": {
          "base_uri": "https://localhost:8080/",
          "height": 296
        },
        "id": "qlEBRIRrBGNK",
        "outputId": "99779d7d-d58f-4e22-e265-c2492597b423"
      },
      "source": [
        "features[Eng_date_features_years+Eng_date_features_months].describe()"
      ],
      "execution_count": null,
      "outputs": [
        {
          "output_type": "execute_result",
          "data": {
            "text/html": [
              "<div>\n",
              "<style scoped>\n",
              "    .dataframe tbody tr th:only-of-type {\n",
              "        vertical-align: middle;\n",
              "    }\n",
              "\n",
              "    .dataframe tbody tr th {\n",
              "        vertical-align: top;\n",
              "    }\n",
              "\n",
              "    .dataframe thead th {\n",
              "        text-align: right;\n",
              "    }\n",
              "</style>\n",
              "<table border=\"1\" class=\"dataframe\">\n",
              "  <thead>\n",
              "    <tr style=\"text-align: right;\">\n",
              "      <th></th>\n",
              "      <th>dateCreated_year</th>\n",
              "      <th>dateCrawled_year</th>\n",
              "      <th>lastSeen_year</th>\n",
              "      <th>dateCreated_month</th>\n",
              "      <th>dateCrawled_month</th>\n",
              "      <th>lastSeen_month</th>\n",
              "    </tr>\n",
              "  </thead>\n",
              "  <tbody>\n",
              "    <tr>\n",
              "      <th>count</th>\n",
              "      <td>360412.000000</td>\n",
              "      <td>360412.0</td>\n",
              "      <td>360412.0</td>\n",
              "      <td>360412.000000</td>\n",
              "      <td>360412.000000</td>\n",
              "      <td>360412.000000</td>\n",
              "    </tr>\n",
              "    <tr>\n",
              "      <th>mean</th>\n",
              "      <td>2015.999914</td>\n",
              "      <td>2016.0</td>\n",
              "      <td>2016.0</td>\n",
              "      <td>3.161013</td>\n",
              "      <td>3.163210</td>\n",
              "      <td>3.576085</td>\n",
              "    </tr>\n",
              "    <tr>\n",
              "      <th>std</th>\n",
              "      <td>0.009568</td>\n",
              "      <td>0.0</td>\n",
              "      <td>0.0</td>\n",
              "      <td>0.377759</td>\n",
              "      <td>0.369558</td>\n",
              "      <td>0.494178</td>\n",
              "    </tr>\n",
              "    <tr>\n",
              "      <th>min</th>\n",
              "      <td>2014.000000</td>\n",
              "      <td>2016.0</td>\n",
              "      <td>2016.0</td>\n",
              "      <td>1.000000</td>\n",
              "      <td>3.000000</td>\n",
              "      <td>3.000000</td>\n",
              "    </tr>\n",
              "    <tr>\n",
              "      <th>25%</th>\n",
              "      <td>2016.000000</td>\n",
              "      <td>2016.0</td>\n",
              "      <td>2016.0</td>\n",
              "      <td>3.000000</td>\n",
              "      <td>3.000000</td>\n",
              "      <td>3.000000</td>\n",
              "    </tr>\n",
              "    <tr>\n",
              "      <th>50%</th>\n",
              "      <td>2016.000000</td>\n",
              "      <td>2016.0</td>\n",
              "      <td>2016.0</td>\n",
              "      <td>3.000000</td>\n",
              "      <td>3.000000</td>\n",
              "      <td>4.000000</td>\n",
              "    </tr>\n",
              "    <tr>\n",
              "      <th>75%</th>\n",
              "      <td>2016.000000</td>\n",
              "      <td>2016.0</td>\n",
              "      <td>2016.0</td>\n",
              "      <td>3.000000</td>\n",
              "      <td>3.000000</td>\n",
              "      <td>4.000000</td>\n",
              "    </tr>\n",
              "    <tr>\n",
              "      <th>max</th>\n",
              "      <td>2016.000000</td>\n",
              "      <td>2016.0</td>\n",
              "      <td>2016.0</td>\n",
              "      <td>12.000000</td>\n",
              "      <td>4.000000</td>\n",
              "      <td>4.000000</td>\n",
              "    </tr>\n",
              "  </tbody>\n",
              "</table>\n",
              "</div>"
            ],
            "text/plain": [
              "       dateCreated_year  dateCrawled_year  ...  dateCrawled_month  lastSeen_month\n",
              "count     360412.000000          360412.0  ...      360412.000000   360412.000000\n",
              "mean        2015.999914            2016.0  ...           3.163210        3.576085\n",
              "std            0.009568               0.0  ...           0.369558        0.494178\n",
              "min         2014.000000            2016.0  ...           3.000000        3.000000\n",
              "25%         2016.000000            2016.0  ...           3.000000        3.000000\n",
              "50%         2016.000000            2016.0  ...           3.000000        4.000000\n",
              "75%         2016.000000            2016.0  ...           3.000000        4.000000\n",
              "max         2016.000000            2016.0  ...           4.000000        4.000000\n",
              "\n",
              "[8 rows x 6 columns]"
            ]
          },
          "metadata": {},
          "execution_count": 430
        }
      ]
    },
    {
      "cell_type": "code",
      "metadata": {
        "id": "ugzxul10O2Xv"
      },
      "source": [
        "features = features.drop(['dateCrawled_year','lastSeen_year'], axis=1)"
      ],
      "execution_count": null,
      "outputs": []
    },
    {
      "cell_type": "code",
      "metadata": {
        "colab": {
          "base_uri": "https://localhost:8080/",
          "height": 192
        },
        "id": "_vb41uHgMWI8",
        "outputId": "fdeffab3-9ebc-4c32-e1b8-addc1cc2af39"
      },
      "source": [
        "features.head(4)"
      ],
      "execution_count": null,
      "outputs": [
        {
          "output_type": "execute_result",
          "data": {
            "text/html": [
              "<div>\n",
              "<style scoped>\n",
              "    .dataframe tbody tr th:only-of-type {\n",
              "        vertical-align: middle;\n",
              "    }\n",
              "\n",
              "    .dataframe tbody tr th {\n",
              "        vertical-align: top;\n",
              "    }\n",
              "\n",
              "    .dataframe thead th {\n",
              "        text-align: right;\n",
              "    }\n",
              "</style>\n",
              "<table border=\"1\" class=\"dataframe\">\n",
              "  <thead>\n",
              "    <tr style=\"text-align: right;\">\n",
              "      <th></th>\n",
              "      <th>name</th>\n",
              "      <th>seller</th>\n",
              "      <th>offerType</th>\n",
              "      <th>abtest</th>\n",
              "      <th>vehicleType</th>\n",
              "      <th>yearOfRegistration</th>\n",
              "      <th>gearbox</th>\n",
              "      <th>powerPS</th>\n",
              "      <th>model</th>\n",
              "      <th>kilometer</th>\n",
              "      <th>monthOfRegistration</th>\n",
              "      <th>fuelType</th>\n",
              "      <th>brand</th>\n",
              "      <th>notRepairedDamage</th>\n",
              "      <th>nrOfPictures</th>\n",
              "      <th>postalCode</th>\n",
              "      <th>dateCreated_year</th>\n",
              "      <th>dateCreated_month</th>\n",
              "      <th>dateCrawled_month</th>\n",
              "      <th>lastSeen_month</th>\n",
              "    </tr>\n",
              "  </thead>\n",
              "  <tbody>\n",
              "    <tr>\n",
              "      <th>0</th>\n",
              "      <td>Golf_3_1.6</td>\n",
              "      <td>privat</td>\n",
              "      <td>Angebot</td>\n",
              "      <td>test</td>\n",
              "      <td>NaN</td>\n",
              "      <td>1993</td>\n",
              "      <td>manuell</td>\n",
              "      <td>0</td>\n",
              "      <td>golf</td>\n",
              "      <td>150000</td>\n",
              "      <td>0</td>\n",
              "      <td>benzin</td>\n",
              "      <td>volkswagen</td>\n",
              "      <td>NaN</td>\n",
              "      <td>0</td>\n",
              "      <td>70435</td>\n",
              "      <td>2016</td>\n",
              "      <td>3</td>\n",
              "      <td>3</td>\n",
              "      <td>4</td>\n",
              "    </tr>\n",
              "    <tr>\n",
              "      <th>1</th>\n",
              "      <td>A5_Sportback_2.7_Tdi</td>\n",
              "      <td>privat</td>\n",
              "      <td>Angebot</td>\n",
              "      <td>test</td>\n",
              "      <td>coupe</td>\n",
              "      <td>2011</td>\n",
              "      <td>manuell</td>\n",
              "      <td>190</td>\n",
              "      <td>NaN</td>\n",
              "      <td>125000</td>\n",
              "      <td>5</td>\n",
              "      <td>diesel</td>\n",
              "      <td>audi</td>\n",
              "      <td>ja</td>\n",
              "      <td>0</td>\n",
              "      <td>66954</td>\n",
              "      <td>2016</td>\n",
              "      <td>3</td>\n",
              "      <td>3</td>\n",
              "      <td>4</td>\n",
              "    </tr>\n",
              "    <tr>\n",
              "      <th>2</th>\n",
              "      <td>Jeep_Grand_Cherokee_\"Overland\"</td>\n",
              "      <td>privat</td>\n",
              "      <td>Angebot</td>\n",
              "      <td>test</td>\n",
              "      <td>suv</td>\n",
              "      <td>2004</td>\n",
              "      <td>automatik</td>\n",
              "      <td>163</td>\n",
              "      <td>grand</td>\n",
              "      <td>125000</td>\n",
              "      <td>8</td>\n",
              "      <td>diesel</td>\n",
              "      <td>jeep</td>\n",
              "      <td>NaN</td>\n",
              "      <td>0</td>\n",
              "      <td>90480</td>\n",
              "      <td>2016</td>\n",
              "      <td>3</td>\n",
              "      <td>3</td>\n",
              "      <td>4</td>\n",
              "    </tr>\n",
              "    <tr>\n",
              "      <th>3</th>\n",
              "      <td>GOLF_4_1_4__3TÜRER</td>\n",
              "      <td>privat</td>\n",
              "      <td>Angebot</td>\n",
              "      <td>test</td>\n",
              "      <td>kleinwagen</td>\n",
              "      <td>2001</td>\n",
              "      <td>manuell</td>\n",
              "      <td>75</td>\n",
              "      <td>golf</td>\n",
              "      <td>150000</td>\n",
              "      <td>6</td>\n",
              "      <td>benzin</td>\n",
              "      <td>volkswagen</td>\n",
              "      <td>nein</td>\n",
              "      <td>0</td>\n",
              "      <td>91074</td>\n",
              "      <td>2016</td>\n",
              "      <td>3</td>\n",
              "      <td>3</td>\n",
              "      <td>3</td>\n",
              "    </tr>\n",
              "  </tbody>\n",
              "</table>\n",
              "</div>"
            ],
            "text/plain": [
              "                             name  seller  ... dateCrawled_month lastSeen_month\n",
              "0                      Golf_3_1.6  privat  ...                 3              4\n",
              "1            A5_Sportback_2.7_Tdi  privat  ...                 3              4\n",
              "2  Jeep_Grand_Cherokee_\"Overland\"  privat  ...                 3              4\n",
              "3              GOLF_4_1_4__3TÜRER  privat  ...                 3              3\n",
              "\n",
              "[4 rows x 20 columns]"
            ]
          },
          "metadata": {},
          "execution_count": 432
        }
      ]
    },
    {
      "cell_type": "code",
      "metadata": {
        "id": "_mpYcdtbPss0"
      },
      "source": [
        "#categorial and numerical Features\n",
        "numeric_features = features.select_dtypes(include=[np.number]).columns\n",
        "categorical_features = features.select_dtypes(exclude=[np.number]).columns"
      ],
      "execution_count": null,
      "outputs": []
    },
    {
      "cell_type": "code",
      "metadata": {
        "colab": {
          "base_uri": "https://localhost:8080/"
        },
        "id": "qV2WB2TJP4w9",
        "outputId": "47b9397f-e362-444f-fba3-a5c14d5291b6"
      },
      "source": [
        "numeric_features"
      ],
      "execution_count": null,
      "outputs": [
        {
          "output_type": "execute_result",
          "data": {
            "text/plain": [
              "Index(['yearOfRegistration', 'powerPS', 'kilometer', 'monthOfRegistration',\n",
              "       'nrOfPictures', 'postalCode', 'dateCreated_year', 'dateCreated_month',\n",
              "       'dateCrawled_month', 'lastSeen_month'],\n",
              "      dtype='object')"
            ]
          },
          "metadata": {},
          "execution_count": 434
        }
      ]
    },
    {
      "cell_type": "code",
      "metadata": {
        "colab": {
          "base_uri": "https://localhost:8080/"
        },
        "id": "TwhLUNnYP5xa",
        "outputId": "497e7cf2-c55a-44f3-9cd6-586048b12093"
      },
      "source": [
        "categorical_features"
      ],
      "execution_count": null,
      "outputs": [
        {
          "output_type": "execute_result",
          "data": {
            "text/plain": [
              "Index(['name', 'seller', 'offerType', 'abtest', 'vehicleType', 'gearbox',\n",
              "       'model', 'fuelType', 'brand', 'notRepairedDamage'],\n",
              "      dtype='object')"
            ]
          },
          "metadata": {},
          "execution_count": 435
        }
      ]
    },
    {
      "cell_type": "markdown",
      "metadata": {
        "id": "LwN2u6bI2JGI"
      },
      "source": [
        "**4.Handeling missing values**"
      ]
    },
    {
      "cell_type": "code",
      "metadata": {
        "colab": {
          "base_uri": "https://localhost:8080/",
          "height": 418
        },
        "id": "IPYKj7NvoemI",
        "outputId": "d6a1b91b-6594-4d1f-f8a2-42ce3450bbd0"
      },
      "source": [
        "df_nan_model = autos[['name','model']]\n",
        "df_nan_model"
      ],
      "execution_count": null,
      "outputs": [
        {
          "output_type": "execute_result",
          "data": {
            "text/html": [
              "<div>\n",
              "<style scoped>\n",
              "    .dataframe tbody tr th:only-of-type {\n",
              "        vertical-align: middle;\n",
              "    }\n",
              "\n",
              "    .dataframe tbody tr th {\n",
              "        vertical-align: top;\n",
              "    }\n",
              "\n",
              "    .dataframe thead th {\n",
              "        text-align: right;\n",
              "    }\n",
              "</style>\n",
              "<table border=\"1\" class=\"dataframe\">\n",
              "  <thead>\n",
              "    <tr style=\"text-align: right;\">\n",
              "      <th></th>\n",
              "      <th>name</th>\n",
              "      <th>model</th>\n",
              "    </tr>\n",
              "  </thead>\n",
              "  <tbody>\n",
              "    <tr>\n",
              "      <th>0</th>\n",
              "      <td>Golf_3_1.6</td>\n",
              "      <td>golf</td>\n",
              "    </tr>\n",
              "    <tr>\n",
              "      <th>1</th>\n",
              "      <td>A5_Sportback_2.7_Tdi</td>\n",
              "      <td>NaN</td>\n",
              "    </tr>\n",
              "    <tr>\n",
              "      <th>2</th>\n",
              "      <td>Jeep_Grand_Cherokee_\"Overland\"</td>\n",
              "      <td>grand</td>\n",
              "    </tr>\n",
              "    <tr>\n",
              "      <th>3</th>\n",
              "      <td>GOLF_4_1_4__3TÜRER</td>\n",
              "      <td>golf</td>\n",
              "    </tr>\n",
              "    <tr>\n",
              "      <th>4</th>\n",
              "      <td>Skoda_Fabia_1.4_TDI_PD_Classic</td>\n",
              "      <td>fabia</td>\n",
              "    </tr>\n",
              "    <tr>\n",
              "      <th>...</th>\n",
              "      <td>...</td>\n",
              "      <td>...</td>\n",
              "    </tr>\n",
              "    <tr>\n",
              "      <th>360407</th>\n",
              "      <td>Suche_t4___vito_ab_6_sitze</td>\n",
              "      <td>NaN</td>\n",
              "    </tr>\n",
              "    <tr>\n",
              "      <th>360408</th>\n",
              "      <td>Smart_smart_leistungssteigerung_100ps</td>\n",
              "      <td>fortwo</td>\n",
              "    </tr>\n",
              "    <tr>\n",
              "      <th>360409</th>\n",
              "      <td>Volkswagen_Multivan_T4_TDI_7DC_UY2</td>\n",
              "      <td>transporter</td>\n",
              "    </tr>\n",
              "    <tr>\n",
              "      <th>360410</th>\n",
              "      <td>VW_Golf_Kombi_1_9l_TDI</td>\n",
              "      <td>golf</td>\n",
              "    </tr>\n",
              "    <tr>\n",
              "      <th>360411</th>\n",
              "      <td>BMW_M135i_vollausgestattet_NP_52.720____Euro</td>\n",
              "      <td>m_reihe</td>\n",
              "    </tr>\n",
              "  </tbody>\n",
              "</table>\n",
              "<p>360412 rows × 2 columns</p>\n",
              "</div>"
            ],
            "text/plain": [
              "                                                name        model\n",
              "0                                         Golf_3_1.6         golf\n",
              "1                               A5_Sportback_2.7_Tdi          NaN\n",
              "2                     Jeep_Grand_Cherokee_\"Overland\"        grand\n",
              "3                                 GOLF_4_1_4__3TÜRER         golf\n",
              "4                     Skoda_Fabia_1.4_TDI_PD_Classic        fabia\n",
              "...                                              ...          ...\n",
              "360407                    Suche_t4___vito_ab_6_sitze          NaN\n",
              "360408         Smart_smart_leistungssteigerung_100ps       fortwo\n",
              "360409            Volkswagen_Multivan_T4_TDI_7DC_UY2  transporter\n",
              "360410                        VW_Golf_Kombi_1_9l_TDI         golf\n",
              "360411  BMW_M135i_vollausgestattet_NP_52.720____Euro      m_reihe\n",
              "\n",
              "[360412 rows x 2 columns]"
            ]
          },
          "metadata": {},
          "execution_count": 436
        }
      ]
    },
    {
      "cell_type": "markdown",
      "metadata": {
        "id": "WM-7Xe5gM-35"
      },
      "source": [
        "The idea here is, for missing model values, to extract the model from the name field. In fact, almost all name fileds begins with the model name"
      ]
    },
    {
      "cell_type": "code",
      "metadata": {
        "id": "JK10I-qCofeP"
      },
      "source": [
        "features.loc[df_nan_model[df_nan_model['model'].isna()].index,'model'] = df_nan_model[df_nan_model['model'].isna()]['name'].map(lambda x : x.split('_')[0]).values"
      ],
      "execution_count": null,
      "outputs": []
    },
    {
      "cell_type": "code",
      "metadata": {
        "colab": {
          "base_uri": "https://localhost:8080/",
          "height": 418
        },
        "id": "JRDankvpNhQ1",
        "outputId": "67ce6ca2-735d-4cab-af25-300fca53a498"
      },
      "source": [
        "features.loc[df_nan_model[df_nan_model['model'].isna()].index,['name','model']]"
      ],
      "execution_count": null,
      "outputs": [
        {
          "output_type": "execute_result",
          "data": {
            "text/html": [
              "<div>\n",
              "<style scoped>\n",
              "    .dataframe tbody tr th:only-of-type {\n",
              "        vertical-align: middle;\n",
              "    }\n",
              "\n",
              "    .dataframe tbody tr th {\n",
              "        vertical-align: top;\n",
              "    }\n",
              "\n",
              "    .dataframe thead th {\n",
              "        text-align: right;\n",
              "    }\n",
              "</style>\n",
              "<table border=\"1\" class=\"dataframe\">\n",
              "  <thead>\n",
              "    <tr style=\"text-align: right;\">\n",
              "      <th></th>\n",
              "      <th>name</th>\n",
              "      <th>model</th>\n",
              "    </tr>\n",
              "  </thead>\n",
              "  <tbody>\n",
              "    <tr>\n",
              "      <th>1</th>\n",
              "      <td>A5_Sportback_2.7_Tdi</td>\n",
              "      <td>A5</td>\n",
              "    </tr>\n",
              "    <tr>\n",
              "      <th>58</th>\n",
              "      <td>TAUSCHE_BMW_E38_740i_g._SUV_/_GELÄNDEWAGEN_LES...</td>\n",
              "      <td>TAUSCHE</td>\n",
              "    </tr>\n",
              "    <tr>\n",
              "      <th>81</th>\n",
              "      <td>Bastler_Fahrzeug_mit_Rest_Tuev</td>\n",
              "      <td>Bastler</td>\n",
              "    </tr>\n",
              "    <tr>\n",
              "      <th>135</th>\n",
              "      <td>Audi_80_5_Zylinder_b4_liebhaberfahrzeug</td>\n",
              "      <td>Audi</td>\n",
              "    </tr>\n",
              "    <tr>\n",
              "      <th>152</th>\n",
              "      <td>POLO_1.2_KILIMA_WIE_NEU</td>\n",
              "      <td>POLO</td>\n",
              "    </tr>\n",
              "    <tr>\n",
              "      <th>...</th>\n",
              "      <td>...</td>\n",
              "      <td>...</td>\n",
              "    </tr>\n",
              "    <tr>\n",
              "      <th>360287</th>\n",
              "      <td>Fiat_Stilo_Abarth_2.4_5zylinder_Seelespeed</td>\n",
              "      <td>Fiat</td>\n",
              "    </tr>\n",
              "    <tr>\n",
              "      <th>360361</th>\n",
              "      <td>ALPINA_D3_Touring</td>\n",
              "      <td>ALPINA</td>\n",
              "    </tr>\n",
              "    <tr>\n",
              "      <th>360380</th>\n",
              "      <td>Opel_Tigra</td>\n",
              "      <td>Opel</td>\n",
              "    </tr>\n",
              "    <tr>\n",
              "      <th>360394</th>\n",
              "      <td>LT_35_DIESEL_Gruene_Plakette....letzte_Gelegen...</td>\n",
              "      <td>LT</td>\n",
              "    </tr>\n",
              "    <tr>\n",
              "      <th>360407</th>\n",
              "      <td>Suche_t4___vito_ab_6_sitze</td>\n",
              "      <td>Suche</td>\n",
              "    </tr>\n",
              "  </tbody>\n",
              "</table>\n",
              "<p>18258 rows × 2 columns</p>\n",
              "</div>"
            ],
            "text/plain": [
              "                                                     name    model\n",
              "1                                    A5_Sportback_2.7_Tdi       A5\n",
              "58      TAUSCHE_BMW_E38_740i_g._SUV_/_GELÄNDEWAGEN_LES...  TAUSCHE\n",
              "81                         Bastler_Fahrzeug_mit_Rest_Tuev  Bastler\n",
              "135               Audi_80_5_Zylinder_b4_liebhaberfahrzeug     Audi\n",
              "152                               POLO_1.2_KILIMA_WIE_NEU     POLO\n",
              "...                                                   ...      ...\n",
              "360287         Fiat_Stilo_Abarth_2.4_5zylinder_Seelespeed     Fiat\n",
              "360361                                  ALPINA_D3_Touring   ALPINA\n",
              "360380                                         Opel_Tigra     Opel\n",
              "360394  LT_35_DIESEL_Gruene_Plakette....letzte_Gelegen...       LT\n",
              "360407                         Suche_t4___vito_ab_6_sitze    Suche\n",
              "\n",
              "[18258 rows x 2 columns]"
            ]
          },
          "metadata": {},
          "execution_count": 438
        }
      ]
    },
    {
      "cell_type": "code",
      "metadata": {
        "colab": {
          "base_uri": "https://localhost:8080/",
          "height": 716
        },
        "id": "SNGhvWtx0W-A",
        "outputId": "fe5ae464-b3f1-467c-9cba-803d3b8297c5"
      },
      "source": [
        "#list of columns with missing value and its percentage\n",
        "print(features.columns[features.isnull().any()])\n",
        "nulls = pd.DataFrame(features.isnull().sum().apply(lambda x: round(100*x/len(features),3)).sort_values(ascending=False))\n",
        "nulls.columns = ['Null Percentage']\n",
        "nulls.index.name = 'Feature'\n",
        "nulls"
      ],
      "execution_count": null,
      "outputs": [
        {
          "output_type": "stream",
          "name": "stdout",
          "text": [
            "Index(['vehicleType', 'gearbox', 'fuelType', 'notRepairedDamage'], dtype='object')\n"
          ]
        },
        {
          "output_type": "execute_result",
          "data": {
            "text/html": [
              "<div>\n",
              "<style scoped>\n",
              "    .dataframe tbody tr th:only-of-type {\n",
              "        vertical-align: middle;\n",
              "    }\n",
              "\n",
              "    .dataframe tbody tr th {\n",
              "        vertical-align: top;\n",
              "    }\n",
              "\n",
              "    .dataframe thead th {\n",
              "        text-align: right;\n",
              "    }\n",
              "</style>\n",
              "<table border=\"1\" class=\"dataframe\">\n",
              "  <thead>\n",
              "    <tr style=\"text-align: right;\">\n",
              "      <th></th>\n",
              "      <th>Null Percentage</th>\n",
              "    </tr>\n",
              "    <tr>\n",
              "      <th>Feature</th>\n",
              "      <th></th>\n",
              "    </tr>\n",
              "  </thead>\n",
              "  <tbody>\n",
              "    <tr>\n",
              "      <th>notRepairedDamage</th>\n",
              "      <td>18.491</td>\n",
              "    </tr>\n",
              "    <tr>\n",
              "      <th>vehicleType</th>\n",
              "      <td>9.454</td>\n",
              "    </tr>\n",
              "    <tr>\n",
              "      <th>fuelType</th>\n",
              "      <td>8.289</td>\n",
              "    </tr>\n",
              "    <tr>\n",
              "      <th>gearbox</th>\n",
              "      <td>4.911</td>\n",
              "    </tr>\n",
              "    <tr>\n",
              "      <th>lastSeen_month</th>\n",
              "      <td>0.000</td>\n",
              "    </tr>\n",
              "    <tr>\n",
              "      <th>model</th>\n",
              "      <td>0.000</td>\n",
              "    </tr>\n",
              "    <tr>\n",
              "      <th>seller</th>\n",
              "      <td>0.000</td>\n",
              "    </tr>\n",
              "    <tr>\n",
              "      <th>offerType</th>\n",
              "      <td>0.000</td>\n",
              "    </tr>\n",
              "    <tr>\n",
              "      <th>abtest</th>\n",
              "      <td>0.000</td>\n",
              "    </tr>\n",
              "    <tr>\n",
              "      <th>yearOfRegistration</th>\n",
              "      <td>0.000</td>\n",
              "    </tr>\n",
              "    <tr>\n",
              "      <th>powerPS</th>\n",
              "      <td>0.000</td>\n",
              "    </tr>\n",
              "    <tr>\n",
              "      <th>kilometer</th>\n",
              "      <td>0.000</td>\n",
              "    </tr>\n",
              "    <tr>\n",
              "      <th>dateCrawled_month</th>\n",
              "      <td>0.000</td>\n",
              "    </tr>\n",
              "    <tr>\n",
              "      <th>monthOfRegistration</th>\n",
              "      <td>0.000</td>\n",
              "    </tr>\n",
              "    <tr>\n",
              "      <th>brand</th>\n",
              "      <td>0.000</td>\n",
              "    </tr>\n",
              "    <tr>\n",
              "      <th>nrOfPictures</th>\n",
              "      <td>0.000</td>\n",
              "    </tr>\n",
              "    <tr>\n",
              "      <th>postalCode</th>\n",
              "      <td>0.000</td>\n",
              "    </tr>\n",
              "    <tr>\n",
              "      <th>dateCreated_year</th>\n",
              "      <td>0.000</td>\n",
              "    </tr>\n",
              "    <tr>\n",
              "      <th>dateCreated_month</th>\n",
              "      <td>0.000</td>\n",
              "    </tr>\n",
              "    <tr>\n",
              "      <th>name</th>\n",
              "      <td>0.000</td>\n",
              "    </tr>\n",
              "  </tbody>\n",
              "</table>\n",
              "</div>"
            ],
            "text/plain": [
              "                     Null Percentage\n",
              "Feature                             \n",
              "notRepairedDamage             18.491\n",
              "vehicleType                    9.454\n",
              "fuelType                       8.289\n",
              "gearbox                        4.911\n",
              "lastSeen_month                 0.000\n",
              "model                          0.000\n",
              "seller                         0.000\n",
              "offerType                      0.000\n",
              "abtest                         0.000\n",
              "yearOfRegistration             0.000\n",
              "powerPS                        0.000\n",
              "kilometer                      0.000\n",
              "dateCrawled_month              0.000\n",
              "monthOfRegistration            0.000\n",
              "brand                          0.000\n",
              "nrOfPictures                   0.000\n",
              "postalCode                     0.000\n",
              "dateCreated_year               0.000\n",
              "dateCreated_month              0.000\n",
              "name                           0.000"
            ]
          },
          "metadata": {},
          "execution_count": 439
        }
      ]
    },
    {
      "cell_type": "markdown",
      "metadata": {
        "id": "1i6hKkoTSJGG"
      },
      "source": [
        "Obviously, features with missing values are all categorical features."
      ]
    },
    {
      "cell_type": "code",
      "metadata": {
        "colab": {
          "base_uri": "https://localhost:8080/",
          "height": 404
        },
        "id": "eaZFs1UYD604",
        "outputId": "cf8e233f-d397-44ce-9427-ddf0b5c0048a"
      },
      "source": [
        "features_Nan = features[features.columns[features.isnull().any()]]\n",
        "barplotsColumns(features_Nan,nLower = 1,nUpper = features_Nan.nunique().max()+1)"
      ],
      "execution_count": null,
      "outputs": [
        {
          "output_type": "display_data",
          "data": {
            "image/png": "[encoded data removed]",
            "text/plain": [
              "<Figure size 2400x384 with 4 Axes>"
            ]
          },
          "metadata": {}
        }
      ]
    },
    {
      "cell_type": "code",
      "metadata": {
        "colab": {
          "base_uri": "https://localhost:8080/"
        },
        "id": "N0AqD3xEFvix",
        "outputId": "a35789f1-c986-4df7-baa5-73521d2b8645"
      },
      "source": [
        "nan_col = features.columns[features.isnull().any()]\n",
        "nan_col"
      ],
      "execution_count": null,
      "outputs": [
        {
          "output_type": "execute_result",
          "data": {
            "text/plain": [
              "Index(['vehicleType', 'gearbox', 'fuelType', 'notRepairedDamage'], dtype='object')"
            ]
          },
          "metadata": {},
          "execution_count": 440
        }
      ]
    },
    {
      "cell_type": "markdown",
      "metadata": {
        "id": "FRMsQ3KMR8tf"
      },
      "source": [
        "Impute the remaining missing values with the most frequent value."
      ]
    },
    {
      "cell_type": "code",
      "metadata": {
        "colab": {
          "base_uri": "https://localhost:8080/"
        },
        "id": "MKQJleWIGVpo",
        "outputId": "739bd302-82b2-42be-a3ea-60e30f0e0e76"
      },
      "source": [
        "from sklearn.impute import SimpleImputer\n",
        "imp_mean = SimpleImputer(missing_values=np.nan, strategy='most_frequent')\n",
        "imp_mean.fit(features[nan_col])"
      ],
      "execution_count": null,
      "outputs": [
        {
          "output_type": "execute_result",
          "data": {
            "text/plain": [
              "SimpleImputer(add_indicator=False, copy=True, fill_value=None,\n",
              "              missing_values=nan, strategy='most_frequent', verbose=0)"
            ]
          },
          "metadata": {},
          "execution_count": 441
        }
      ]
    },
    {
      "cell_type": "code",
      "metadata": {
        "id": "eU9wpWeTFr_f"
      },
      "source": [
        "imp_mean.transform(features[nan_col])\n",
        "filling_features = pd.DataFrame(imp_mean.transform(features[nan_col]))\n",
        "filling_features.columns = features[nan_col].columns\n",
        "features[nan_col] = filling_features"
      ],
      "execution_count": null,
      "outputs": []
    },
    {
      "cell_type": "code",
      "metadata": {
        "colab": {
          "base_uri": "https://localhost:8080/",
          "height": 161
        },
        "id": "hovJRBncVYap",
        "outputId": "ad953034-b777-4972-ebd4-75ba7aaafa52"
      },
      "source": [
        "features.head(3)"
      ],
      "execution_count": null,
      "outputs": [
        {
          "output_type": "execute_result",
          "data": {
            "text/html": [
              "<div>\n",
              "<style scoped>\n",
              "    .dataframe tbody tr th:only-of-type {\n",
              "        vertical-align: middle;\n",
              "    }\n",
              "\n",
              "    .dataframe tbody tr th {\n",
              "        vertical-align: top;\n",
              "    }\n",
              "\n",
              "    .dataframe thead th {\n",
              "        text-align: right;\n",
              "    }\n",
              "</style>\n",
              "<table border=\"1\" class=\"dataframe\">\n",
              "  <thead>\n",
              "    <tr style=\"text-align: right;\">\n",
              "      <th></th>\n",
              "      <th>name</th>\n",
              "      <th>seller</th>\n",
              "      <th>offerType</th>\n",
              "      <th>abtest</th>\n",
              "      <th>vehicleType</th>\n",
              "      <th>yearOfRegistration</th>\n",
              "      <th>gearbox</th>\n",
              "      <th>powerPS</th>\n",
              "      <th>model</th>\n",
              "      <th>kilometer</th>\n",
              "      <th>monthOfRegistration</th>\n",
              "      <th>fuelType</th>\n",
              "      <th>brand</th>\n",
              "      <th>notRepairedDamage</th>\n",
              "      <th>nrOfPictures</th>\n",
              "      <th>postalCode</th>\n",
              "      <th>dateCreated_year</th>\n",
              "      <th>dateCreated_month</th>\n",
              "      <th>dateCrawled_month</th>\n",
              "      <th>lastSeen_month</th>\n",
              "    </tr>\n",
              "  </thead>\n",
              "  <tbody>\n",
              "    <tr>\n",
              "      <th>0</th>\n",
              "      <td>Golf_3_1.6</td>\n",
              "      <td>privat</td>\n",
              "      <td>Angebot</td>\n",
              "      <td>test</td>\n",
              "      <td>limousine</td>\n",
              "      <td>1993</td>\n",
              "      <td>manuell</td>\n",
              "      <td>0</td>\n",
              "      <td>golf</td>\n",
              "      <td>150000</td>\n",
              "      <td>0</td>\n",
              "      <td>benzin</td>\n",
              "      <td>volkswagen</td>\n",
              "      <td>nein</td>\n",
              "      <td>0</td>\n",
              "      <td>70435</td>\n",
              "      <td>2016</td>\n",
              "      <td>3</td>\n",
              "      <td>3</td>\n",
              "      <td>4</td>\n",
              "    </tr>\n",
              "    <tr>\n",
              "      <th>1</th>\n",
              "      <td>A5_Sportback_2.7_Tdi</td>\n",
              "      <td>privat</td>\n",
              "      <td>Angebot</td>\n",
              "      <td>test</td>\n",
              "      <td>coupe</td>\n",
              "      <td>2011</td>\n",
              "      <td>manuell</td>\n",
              "      <td>190</td>\n",
              "      <td>A5</td>\n",
              "      <td>125000</td>\n",
              "      <td>5</td>\n",
              "      <td>diesel</td>\n",
              "      <td>audi</td>\n",
              "      <td>ja</td>\n",
              "      <td>0</td>\n",
              "      <td>66954</td>\n",
              "      <td>2016</td>\n",
              "      <td>3</td>\n",
              "      <td>3</td>\n",
              "      <td>4</td>\n",
              "    </tr>\n",
              "    <tr>\n",
              "      <th>2</th>\n",
              "      <td>Jeep_Grand_Cherokee_\"Overland\"</td>\n",
              "      <td>privat</td>\n",
              "      <td>Angebot</td>\n",
              "      <td>test</td>\n",
              "      <td>suv</td>\n",
              "      <td>2004</td>\n",
              "      <td>automatik</td>\n",
              "      <td>163</td>\n",
              "      <td>grand</td>\n",
              "      <td>125000</td>\n",
              "      <td>8</td>\n",
              "      <td>diesel</td>\n",
              "      <td>jeep</td>\n",
              "      <td>nein</td>\n",
              "      <td>0</td>\n",
              "      <td>90480</td>\n",
              "      <td>2016</td>\n",
              "      <td>3</td>\n",
              "      <td>3</td>\n",
              "      <td>4</td>\n",
              "    </tr>\n",
              "  </tbody>\n",
              "</table>\n",
              "</div>"
            ],
            "text/plain": [
              "                             name  seller  ... dateCrawled_month lastSeen_month\n",
              "0                      Golf_3_1.6  privat  ...                 3              4\n",
              "1            A5_Sportback_2.7_Tdi  privat  ...                 3              4\n",
              "2  Jeep_Grand_Cherokee_\"Overland\"  privat  ...                 3              4\n",
              "\n",
              "[3 rows x 20 columns]"
            ]
          },
          "metadata": {},
          "execution_count": 443
        }
      ]
    },
    {
      "cell_type": "code",
      "metadata": {
        "id": "S1PmXgd0y6tQ"
      },
      "source": [
        "names, sellers, offerTypes, abtests, vehicleTypes, gearboxs, models, fuelTypes, brands, notRepairedDamages = features.name, features.seller, features.offerType, features.abtest, features.vehicleType, features.gearbox, features.model, features.fuelType, features.brand, features.notRepairedDamage"
      ],
      "execution_count": null,
      "outputs": []
    },
    {
      "cell_type": "markdown",
      "metadata": {
        "id": "BZayv9qvSpUh"
      },
      "source": [
        "**5.   Feature selection** : Removing both constant and quasi-constant features"
      ]
    },
    {
      "cell_type": "code",
      "metadata": {
        "id": "tLKQ_USIW8lk"
      },
      "source": [
        "# import ordinal encoder from sklearn\n",
        "ord_enc = OrdinalEncoder()\n",
        "# Transform the data\n",
        "features[categorical_features] = ord_enc.fit_transform(features[categorical_features])"
      ],
      "execution_count": null,
      "outputs": []
    },
    {
      "cell_type": "code",
      "metadata": {
        "colab": {
          "base_uri": "https://localhost:8080/"
        },
        "id": "UgeDjyeCW9U_",
        "outputId": "62d69e40-ec4d-4d4b-fbea-d872f18e5d91"
      },
      "source": [
        "var_thr = VarianceThreshold(threshold = 0.1) \n",
        "var_thr.fit(features)\n",
        "var_thr.get_support()"
      ],
      "execution_count": null,
      "outputs": [
        {
          "output_type": "execute_result",
          "data": {
            "text/plain": [
              "array([ True, False, False,  True,  True,  True,  True,  True,  True,\n",
              "        True,  True,  True,  True, False, False,  True, False,  True,\n",
              "        True,  True])"
            ]
          },
          "metadata": {},
          "execution_count": 447
        }
      ]
    },
    {
      "cell_type": "markdown",
      "metadata": {
        "id": "NuAqVjp7yAUr"
      },
      "source": [
        "seller / offretype / dateCreated_year / nrOfPictures / notRepairedDamage"
      ]
    },
    {
      "cell_type": "code",
      "metadata": {
        "id": "egAIXscJW9ss"
      },
      "source": [
        "features = features[list(features.columns[var_thr.get_support()])]"
      ],
      "execution_count": null,
      "outputs": []
    },
    {
      "cell_type": "code",
      "metadata": {
        "colab": {
          "base_uri": "https://localhost:8080/",
          "height": 141
        },
        "id": "vFIVL0nOW97h",
        "outputId": "17a45507-e099-4dd3-8b50-51468a4872e1"
      },
      "source": [
        "features.head(3)"
      ],
      "execution_count": null,
      "outputs": [
        {
          "output_type": "execute_result",
          "data": {
            "text/html": [
              "<div>\n",
              "<style scoped>\n",
              "    .dataframe tbody tr th:only-of-type {\n",
              "        vertical-align: middle;\n",
              "    }\n",
              "\n",
              "    .dataframe tbody tr th {\n",
              "        vertical-align: top;\n",
              "    }\n",
              "\n",
              "    .dataframe thead th {\n",
              "        text-align: right;\n",
              "    }\n",
              "</style>\n",
              "<table border=\"1\" class=\"dataframe\">\n",
              "  <thead>\n",
              "    <tr style=\"text-align: right;\">\n",
              "      <th></th>\n",
              "      <th>name</th>\n",
              "      <th>abtest</th>\n",
              "      <th>vehicleType</th>\n",
              "      <th>yearOfRegistration</th>\n",
              "      <th>gearbox</th>\n",
              "      <th>powerPS</th>\n",
              "      <th>model</th>\n",
              "      <th>kilometer</th>\n",
              "      <th>monthOfRegistration</th>\n",
              "      <th>fuelType</th>\n",
              "      <th>brand</th>\n",
              "      <th>postalCode</th>\n",
              "      <th>dateCreated_month</th>\n",
              "      <th>dateCrawled_month</th>\n",
              "      <th>lastSeen_month</th>\n",
              "    </tr>\n",
              "  </thead>\n",
              "  <tbody>\n",
              "    <tr>\n",
              "      <th>0</th>\n",
              "      <td>76560.0</td>\n",
              "      <td>1.0</td>\n",
              "      <td>6.0</td>\n",
              "      <td>1993</td>\n",
              "      <td>1.0</td>\n",
              "      <td>0</td>\n",
              "      <td>1631.0</td>\n",
              "      <td>150000</td>\n",
              "      <td>0</td>\n",
              "      <td>1.0</td>\n",
              "      <td>38.0</td>\n",
              "      <td>70435</td>\n",
              "      <td>3</td>\n",
              "      <td>3</td>\n",
              "      <td>4</td>\n",
              "    </tr>\n",
              "    <tr>\n",
              "      <th>1</th>\n",
              "      <td>3884.0</td>\n",
              "      <td>1.0</td>\n",
              "      <td>3.0</td>\n",
              "      <td>2011</td>\n",
              "      <td>1.0</td>\n",
              "      <td>190</td>\n",
              "      <td>223.0</td>\n",
              "      <td>125000</td>\n",
              "      <td>5</td>\n",
              "      <td>3.0</td>\n",
              "      <td>1.0</td>\n",
              "      <td>66954</td>\n",
              "      <td>3</td>\n",
              "      <td>3</td>\n",
              "      <td>4</td>\n",
              "    </tr>\n",
              "    <tr>\n",
              "      <th>2</th>\n",
              "      <td>87361.0</td>\n",
              "      <td>1.0</td>\n",
              "      <td>7.0</td>\n",
              "      <td>2004</td>\n",
              "      <td>0.0</td>\n",
              "      <td>163</td>\n",
              "      <td>1632.0</td>\n",
              "      <td>125000</td>\n",
              "      <td>8</td>\n",
              "      <td>3.0</td>\n",
              "      <td>14.0</td>\n",
              "      <td>90480</td>\n",
              "      <td>3</td>\n",
              "      <td>3</td>\n",
              "      <td>4</td>\n",
              "    </tr>\n",
              "  </tbody>\n",
              "</table>\n",
              "</div>"
            ],
            "text/plain": [
              "      name  abtest  ...  dateCrawled_month  lastSeen_month\n",
              "0  76560.0     1.0  ...                  3               4\n",
              "1   3884.0     1.0  ...                  3               4\n",
              "2  87361.0     1.0  ...                  3               4\n",
              "\n",
              "[3 rows x 15 columns]"
            ]
          },
          "metadata": {},
          "execution_count": 449
        }
      ]
    },
    {
      "cell_type": "markdown",
      "metadata": {
        "id": "01CIEdwAqYmK"
      },
      "source": [
        "**5.Bivariate Analysis**"
      ]
    },
    {
      "cell_type": "code",
      "metadata": {
        "id": "fiv6eVx_fQ4d"
      },
      "source": [
        "mapping_vehicleType = {k:v for v,k in zip(vehicleTypes,features.vehicleType)}\n",
        "mapping_gearbox = {k:v for v,k in zip(gearboxs,features.gearbox)}\n",
        "mapping_fuelType = {k:v for v,k in zip(fuelTypes,features.fuelType)}"
      ],
      "execution_count": null,
      "outputs": []
    },
    {
      "cell_type": "code",
      "metadata": {
        "id": "NaInYIsitWzN"
      },
      "source": [
        "feature_BA = features.copy()\n",
        "feature_BA.vehicleType = feature_BA.vehicleType.map(mapping_vehicleType)\n",
        "feature_BA.gearbox = feature_BA.gearbox.map(mapping_gearbox)\n",
        "feature_BA.fuelType = feature_BA.fuelType.map(mapping_fuelType)\n",
        "feature_BA['price'] = prices"
      ],
      "execution_count": null,
      "outputs": []
    },
    {
      "cell_type": "code",
      "metadata": {
        "colab": {
          "base_uri": "https://localhost:8080/"
        },
        "id": "TNSEvRhjyL8s",
        "outputId": "0d5aa3b2-2360-436c-c3e1-944cdf9b6c6d"
      },
      "source": [
        "feature_BA.shape"
      ],
      "execution_count": null,
      "outputs": [
        {
          "output_type": "execute_result",
          "data": {
            "text/plain": [
              "(360412, 16)"
            ]
          },
          "metadata": {},
          "execution_count": 453
        }
      ]
    },
    {
      "cell_type": "code",
      "metadata": {
        "id": "48Mr-3ly11oJ"
      },
      "source": [
        "sns.set(rc={\"figure.figsize\":(12, 4)}) "
      ],
      "execution_count": null,
      "outputs": []
    },
    {
      "cell_type": "code",
      "metadata": {
        "colab": {
          "base_uri": "https://localhost:8080/",
          "height": 303
        },
        "id": "gTOzf-xhqWuf",
        "outputId": "bfee39d8-695b-40a3-8bc1-09c5936e5feb"
      },
      "source": [
        "sns.barplot(y=\"price\", x=\"kilometer\", data=feature_BA)"
      ],
      "execution_count": null,
      "outputs": [
        {
          "output_type": "execute_result",
          "data": {
            "text/plain": [
              "<matplotlib.axes._subplots.AxesSubplot at 0x7f66bf3be0d0>"
            ]
          },
          "metadata": {},
          "execution_count": 47
        },
        {
          "output_type": "display_data",
          "data": {
            "image/png": "[encoded data removed]",
            "text/plain": [
              "<Figure size 864x288 with 1 Axes>"
            ]
          },
          "metadata": {}
        }
      ]
    },
    {
      "cell_type": "code",
      "metadata": {
        "colab": {
          "base_uri": "https://localhost:8080/",
          "height": 314
        },
        "id": "iBMTFpl0uOuc",
        "outputId": "92c9e7c4-215f-4719-eeea-bb2d873208a2"
      },
      "source": [
        "sns.barplot(y=\"price\", x=\"vehicleType\", data=feature_BA)"
      ],
      "execution_count": null,
      "outputs": [
        {
          "output_type": "execute_result",
          "data": {
            "text/plain": [
              "<matplotlib.axes._subplots.AxesSubplot at 0x7f66bf0bf2d0>"
            ]
          },
          "metadata": {},
          "execution_count": 48
        },
        {
          "output_type": "display_data",
          "data": {
            "image/png": "[encoded data removed]",
            "text/plain": [
              "<Figure size 864x288 with 1 Axes>"
            ]
          },
          "metadata": {}
        }
      ]
    },
    {
      "cell_type": "code",
      "metadata": {
        "colab": {
          "base_uri": "https://localhost:8080/",
          "height": 306
        },
        "id": "Z8iN6uqzyT_U",
        "outputId": "706f0d7b-8530-4f03-bdfb-e5d45d93f3e5"
      },
      "source": [
        "sns.barplot(y=\"price\", x=\"gearbox\", data=feature_BA)"
      ],
      "execution_count": null,
      "outputs": [
        {
          "output_type": "execute_result",
          "data": {
            "text/plain": [
              "<matplotlib.axes._subplots.AxesSubplot at 0x7f66bf29d950>"
            ]
          },
          "metadata": {},
          "execution_count": 49
        },
        {
          "output_type": "display_data",
          "data": {
            "image/png": "[encoded data removed]",
            "text/plain": [
              "<Figure size 864x288 with 1 Axes>"
            ]
          },
          "metadata": {}
        }
      ]
    },
    {
      "cell_type": "markdown",
      "metadata": {
        "id": "GWPs4pHm3XoC"
      },
      "source": [
        "## **II - Modeling**"
      ]
    },
    {
      "cell_type": "code",
      "metadata": {
        "id": "i85U-bbf1pWs"
      },
      "source": [
        "cols = ['name', 'abtest', 'vehicleType', 'yearOfRegistration', 'gearbox',\n",
        "       'powerPS', 'model', 'kilometer', 'monthOfRegistration', 'fuelType',\n",
        "       'brand', 'postalCode', 'dateCreated_month', 'dateCrawled_month',\n",
        "       'lastSeen_month']"
      ],
      "execution_count": null,
      "outputs": []
    },
    {
      "cell_type": "code",
      "metadata": {
        "id": "KHPP-oxg1q4V"
      },
      "source": [
        "X_train, X_test, y_train, y_test = train_test_split(features[cols], prices.loc[features.index], test_size=0.33, random_state=1)"
      ],
      "execution_count": null,
      "outputs": []
    },
    {
      "cell_type": "markdown",
      "metadata": {
        "id": "Z8D1inRN1EO7"
      },
      "source": [
        "**1.Linear regression**"
      ]
    },
    {
      "cell_type": "markdown",
      "metadata": {
        "id": "NO4fuFMUS832"
      },
      "source": [
        "Check if conditions for using Linear Regression are met. For this Purpose, the Correlation between every Variables(Features) must be low"
      ]
    },
    {
      "cell_type": "code",
      "metadata": {
        "id": "1LMbJnZO4Jsf"
      },
      "source": [
        "feature_BA = features.copy()\n",
        "feature_BA['price'] = prices"
      ],
      "execution_count": null,
      "outputs": []
    },
    {
      "cell_type": "code",
      "metadata": {
        "colab": {
          "base_uri": "https://localhost:8080/",
          "height": 363
        },
        "id": "XMYq3ObVlwBg",
        "outputId": "eaf3a077-fc58-4017-af6a-7c8b492d6d73"
      },
      "source": [
        "corr=feature_BA.corr()\n",
        "sns.heatmap(corr)\n",
        "plt.show()"
      ],
      "execution_count": null,
      "outputs": [
        {
          "output_type": "display_data",
          "data": {
            "image/png": "[encoded data removed]",
            "text/plain": [
              "<Figure size 432x288 with 2 Axes>"
            ]
          },
          "metadata": {
            "needs_background": "light"
          }
        }
      ]
    },
    {
      "cell_type": "markdown",
      "metadata": {
        "id": "TdSMAEQiTE_5"
      },
      "source": [
        "check if conditions for using Linear Regression are met. For this Purpose,Variables should have linear Relations\n"
      ]
    },
    {
      "cell_type": "code",
      "metadata": {
        "colab": {
          "base_uri": "https://localhost:8080/",
          "height": 372
        },
        "id": "rPUdncNulMxZ",
        "outputId": "ee385452-a693-4dbd-f8fd-f430e9f03d2b"
      },
      "source": [
        "sns.pairplot(feature_BA.head(50000), vars=[\"model\",\"price\"])\n",
        "plt.show()\n",
        "#Not necessarily the case"
      ],
      "execution_count": null,
      "outputs": [
        {
          "output_type": "display_data",
          "data": {
            "image/png": "[encoded data removed]",
            "text/plain": [
              "<Figure size 360x360 with 6 Axes>"
            ]
          },
          "metadata": {}
        }
      ]
    },
    {
      "cell_type": "code",
      "metadata": {
        "colab": {
          "base_uri": "https://localhost:8080/",
          "height": 374
        },
        "id": "tfovd4T64Aj-",
        "outputId": "6c72ad0f-a578-489c-d7dd-1f7fd19f3bf5"
      },
      "source": [
        "sns.pairplot(feature_BA.head(50000), vars=[\"kilometer\",\"price\"])\n",
        "plt.show()"
      ],
      "execution_count": null,
      "outputs": [
        {
          "output_type": "display_data",
          "data": {
            "image/png": "[encoded data removed]",
            "text/plain": [
              "<Figure size 360x360 with 6 Axes>"
            ]
          },
          "metadata": {
            "needs_background": "light"
          }
        }
      ]
    },
    {
      "cell_type": "code",
      "metadata": {
        "id": "QXSHH-6TB-q8"
      },
      "source": [
        "# fit multiple polynomial features\n",
        "degrees = [1, 2]\n",
        "\n",
        "y_train_pred = np.zeros((len(X_train), len(degrees)))\n",
        "y_test_pred = np.zeros((len(X_test), len(degrees)))"
      ],
      "execution_count": null,
      "outputs": []
    },
    {
      "cell_type": "code",
      "metadata": {
        "id": "xcG2vngX8E3F"
      },
      "source": [
        "for i, degree in enumerate(degrees):\n",
        "    model = make_pipeline(PolynomialFeatures(degree), LinearRegression())\n",
        "    model.fit(X_train, y_train)\n",
        "    # predict on test and train data\n",
        "    # store the predictions of each degree in the corresponding column\n",
        "    y_train_pred[:, i] = model.predict(X_train)\n",
        "    y_test_pred[:, i] = model.predict(X_test)"
      ],
      "execution_count": null,
      "outputs": []
    },
    {
      "cell_type": "code",
      "metadata": {
        "colab": {
          "base_uri": "https://localhost:8080/"
        },
        "id": "FROTPZeeI_9R",
        "outputId": "af2b7d62-fb91-4384-8773-0f09a8e6efd7"
      },
      "source": [
        "X_train.shape,y_train.shape"
      ],
      "execution_count": null,
      "outputs": [
        {
          "output_type": "execute_result",
          "data": {
            "text/plain": [
              "((241476, 15), (241476,))"
            ]
          },
          "metadata": {},
          "execution_count": 460
        }
      ]
    },
    {
      "cell_type": "code",
      "metadata": {
        "colab": {
          "base_uri": "https://localhost:8080/"
        },
        "id": "RiPR-5ws7xuN",
        "outputId": "dac6138f-86b6-40eb-ab83-bc3e2fb6128b"
      },
      "source": [
        "for i, degree in enumerate(degrees):\n",
        "    train_r2 = sklearn.metrics.r2_score(y_train, y_train_pred[:, i])\n",
        "    train_mse = mean_squared_error(y_train, y_train_pred[:, i])\n",
        "    train_rmse = sqrt(train_mse)\n",
        "\n",
        "    test_r2 = sklearn.metrics.r2_score(y_test, y_test_pred[:, i])\n",
        "    test_mse = mean_squared_error(y_test, y_test_pred[:, i])\n",
        "    test_rmse = sqrt(test_mse)\n",
        "    print(\"Polynomial degree {}: train R2={}, train MSE={}, train RMSE={}, test R2={}\".format(degree, \n",
        "                                                                                            train_r2,\n",
        "                                                                                            train_mse, \n",
        "                                                                                            train_rmse,\n",
        "                                                                                            test_r2,\n",
        "                                                                                            test_mse,\n",
        "                                                                                            test_rmse,\n",
        "                                                                                            \n",
        "                                                                                            ))"
      ],
      "execution_count": null,
      "outputs": [
        {
          "output_type": "stream",
          "name": "stdout",
          "text": [
            "Polynomial degree 1: train R2=0.003717579870754939, train MSE=10879355995.222363, train RMSE=104304.15138057718, test R2=0.0023180067412836847\n",
            "Polynomial degree 2: train R2=0.008164438830130516, train MSE=10830796509.777145, train RMSE=104071.1127536222, test R2=0.003272071250708053\n"
          ]
        }
      ]
    },
    {
      "cell_type": "markdown",
      "metadata": {
        "id": "3FTwe8kxM1XA"
      },
      "source": [
        "**2.Random Forest**"
      ]
    },
    {
      "cell_type": "code",
      "metadata": {
        "id": "N7AZzj8RNO8X"
      },
      "source": [
        "# importing Libraries:\n",
        "import pandas as pd\n",
        "from sklearn.model_selection import train_test_split\n",
        "import numpy as np\n",
        "from sklearn.linear_model import LinearRegression\n",
        "from sklearn.tree import DecisionTreeRegressor\n",
        "from sklearn.metrics import mean_squared_error\n",
        "import seaborn as sns\n",
        "import matplotlib.pyplot as plt\n",
        "from sklearn import tree\n",
        "from sklearn.ensemble import RandomForestRegressor"
      ],
      "execution_count": null,
      "outputs": []
    },
    {
      "cell_type": "code",
      "metadata": {
        "colab": {
          "base_uri": "https://localhost:8080/"
        },
        "id": "GVMGyaYLM5a-",
        "outputId": "068496af-c8e3-4a64-e31f-d37940e42cce"
      },
      "source": [
        "#Regression Tree\n",
        "DTR = DecisionTreeRegressor(max_depth=7,random_state=33).fit(X_train,y_train)\n",
        "print('DecisionTreeRegressor Train Score is: ',DTR.score(X_train,y_train))\n",
        "predict_y=DTR.predict(X_test)\n",
        "print('DecisionTreeRegressor Test Score is: ',DTR.score(X_test,y_test))\n",
        "print(\"MSE:\",mean_squared_error(predict_y,y_test, multioutput='uniform_average'))\n",
        "print(\"RMSE:\",sqrt(mean_squared_error(predict_y,y_test, multioutput='uniform_average')))"
      ],
      "execution_count": null,
      "outputs": [
        {
          "output_type": "stream",
          "name": "stdout",
          "text": [
            "DecisionTreeRegressor Train Score is:  0.21913068324957416\n",
            "DecisionTreeRegressor Test Score is:  -0.16126596272649785\n",
            "MSE: 14367119827.794443\n",
            "RMSE: 119862.92098807888\n"
          ]
        }
      ]
    },
    {
      "cell_type": "code",
      "metadata": {
        "colab": {
          "base_uri": "https://localhost:8080/"
        },
        "id": "hpo021cyxdJ1",
        "outputId": "a4deea72-b33a-4f2f-ecb5-30db473fcda3"
      },
      "source": [
        "from sklearn.model_selection import cross_val_score\n",
        "first_cv_scores = cross_val_score(DTR, X_train,y_train, cv=5, scoring='neg_mean_squared_error')\n",
        "second_cv_scores = cross_val_score(DTR, X_train,y_train, cv=10, scoring='neg_mean_squared_error')\n",
        "print('mean in first_cv_scores is {0:.2f} and in second_cv_scores is {1:.2f}'.format(np.mean\n",
        "(first_cv_scores),\n",
        " np.mean\n",
        "(second_cv_scores)))"
      ],
      "execution_count": null,
      "outputs": [
        {
          "output_type": "stream",
          "name": "stdout",
          "text": [
            "mean in first_cv_scores is -14933867813.33 and in second_cv_scores is -14127045924.58\n"
          ]
        }
      ]
    },
    {
      "cell_type": "code",
      "metadata": {
        "colab": {
          "base_uri": "https://localhost:8080/"
        },
        "id": "LuXPdo3wNbdn",
        "outputId": "54cf078d-a16d-4b74-c522-7510accd9e20"
      },
      "source": [
        "#Random Forest\n",
        "rfregressor = RandomForestRegressor(n_estimators=100,max_depth=11, random_state=33).fit(X_train,y_train)\n",
        "predict_y = rfregressor.predict(X_test)\n",
        "print('Random Forest Regressor Train Score is : ' , rfregressor.score(X_train, y_train))\n",
        "print('Random Forest Regressor Test Score is : ' , rfregressor.score(X_test,y_test))\n",
        "print(\"MSE is:\",mean_squared_error(predict_y,y_test, multioutput='uniform_average'))\n",
        "print(\"RMSE:\",sqrt(mean_squared_error(predict_y,y_test, multioutput='uniform_average')))"
      ],
      "execution_count": null,
      "outputs": [
        {
          "output_type": "stream",
          "name": "stdout",
          "text": [
            "Random Forest Regressor Train Score is :  0.683562276101925\n",
            "Random Forest Regressor Test Score is :  -0.09263745396924161\n",
            "MSE is: 13518051620.711758\n",
            "RMSE: 116267.15624247356\n"
          ]
        }
      ]
    },
    {
      "cell_type": "code",
      "metadata": {
        "colab": {
          "base_uri": "https://localhost:8080/"
        },
        "id": "StdFXJod2Pi8",
        "outputId": "e1e76d5b-23b1-4129-a68a-2930aab42c81"
      },
      "source": [
        "first_cv_scores = cross_val_score(rfregressor, X_train,y_train, cv=5, scoring='neg_mean_squared_error')\n",
        "second_cv_scores = cross_val_score(rfregressor, X_train,y_train, cv=10, scoring='neg_mean_squared_error')\n",
        "print('mean in first_cv_scores is {0:.2f} and in second_cv_scores is {1:.2f}'.format(np.mean\n",
        "(first_cv_scores),\n",
        " np.mean\n",
        "(second_cv_scores)))"
      ],
      "execution_count": null,
      "outputs": [
        {
          "output_type": "stream",
          "name": "stdout",
          "text": [
            "mean in first_cv_scores is -12314893857.03 and in second_cv_scores is -12258469521.49\n"
          ]
        }
      ]
    },
    {
      "cell_type": "markdown",
      "metadata": {
        "id": "mqYtlf-AceLa"
      },
      "source": [
        "**3.Xgboost (Extreme Gradient Boosting )**"
      ]
    },
    {
      "cell_type": "code",
      "metadata": {
        "colab": {
          "base_uri": "https://localhost:8080/"
        },
        "id": "5WJGbNUgch8D",
        "outputId": "f02996f2-66cf-4534-81c7-2ab6a63a781f"
      },
      "source": [
        "# XGBregressor = xgb.XGBRegressor().fit(X_train,y_train)\n",
        "# predict_y = XGBregressor.predict(X_test)\n",
        "print('XGBOOST Regressor Train Score is : ' , XGBregressor.score(X_train, y_train))\n",
        "print('XGBOOST Regressor Test Score is : ' , XGBregressor.score(X_test,y_test))\n",
        "print(\"MSE of XGBOOST is:\",mean_squared_error(predict_y,y_test, multioutput='uniform_average'))\n",
        "print(\"RMSE:\",sqrt(mean_squared_error(predict_y,y_test, multioutput='uniform_average')))"
      ],
      "execution_count": null,
      "outputs": [
        {
          "output_type": "stream",
          "name": "stdout",
          "text": [
            "XGBOOST Regressor Train Score is :  0.18740832383118766\n",
            "XGBOOST Regressor Test Score is :  -0.02797672541141583\n",
            "MSE of XGBOOST is: 12718072576.151083\n",
            "RMSE: 112774.43228033153\n"
          ]
        }
      ]
    },
    {
      "cell_type": "code",
      "metadata": {
        "colab": {
          "base_uri": "https://localhost:8080/"
        },
        "id": "lUCF7AMmVG0g",
        "outputId": "d63e9e2b-b300-407b-d150-49643c0cae0a"
      },
      "source": [
        "first_cv_scores = cross_val_score(XGBregressor, X_train,y_train, cv=5, scoring='neg_mean_squared_error')\n",
        "second_cv_scores = cross_val_score(XGBregressor, X_train,y_train, cv=10, scoring='neg_mean_squared_error')\n",
        "print('mean in first_cv_scores is {0:.2f} and in second_cv_scores is {1:.2f}'.format(np.mean\n",
        "(first_cv_scores),\n",
        " np.mean\n",
        "(second_cv_scores)))"
      ],
      "execution_count": null,
      "outputs": [
        {
          "output_type": "stream",
          "name": "stdout",
          "text": [
            "[23:46:22] WARNING: /workspace/src/objective/regression_obj.cu:152: reg:linear is now deprecated in favor of reg:squarederror.\n",
            "[23:46:36] WARNING: /workspace/src/objective/regression_obj.cu:152: reg:linear is now deprecated in favor of reg:squarederror.\n",
            "[23:46:49] WARNING: /workspace/src/objective/regression_obj.cu:152: reg:linear is now deprecated in favor of reg:squarederror.\n",
            "[23:47:02] WARNING: /workspace/src/objective/regression_obj.cu:152: reg:linear is now deprecated in favor of reg:squarederror.\n",
            "[23:47:15] WARNING: /workspace/src/objective/regression_obj.cu:152: reg:linear is now deprecated in favor of reg:squarederror.\n",
            "[23:47:28] WARNING: /workspace/src/objective/regression_obj.cu:152: reg:linear is now deprecated in favor of reg:squarederror.\n",
            "[23:47:43] WARNING: /workspace/src/objective/regression_obj.cu:152: reg:linear is now deprecated in favor of reg:squarederror.\n",
            "[23:47:58] WARNING: /workspace/src/objective/regression_obj.cu:152: reg:linear is now deprecated in favor of reg:squarederror.\n",
            "[23:48:12] WARNING: /workspace/src/objective/regression_obj.cu:152: reg:linear is now deprecated in favor of reg:squarederror.\n",
            "[23:48:27] WARNING: /workspace/src/objective/regression_obj.cu:152: reg:linear is now deprecated in favor of reg:squarederror.\n",
            "[23:48:41] WARNING: /workspace/src/objective/regression_obj.cu:152: reg:linear is now deprecated in favor of reg:squarederror.\n",
            "[23:48:56] WARNING: /workspace/src/objective/regression_obj.cu:152: reg:linear is now deprecated in favor of reg:squarederror.\n",
            "[23:49:12] WARNING: /workspace/src/objective/regression_obj.cu:152: reg:linear is now deprecated in favor of reg:squarederror.\n",
            "[23:49:26] WARNING: /workspace/src/objective/regression_obj.cu:152: reg:linear is now deprecated in favor of reg:squarederror.\n",
            "[23:49:41] WARNING: /workspace/src/objective/regression_obj.cu:152: reg:linear is now deprecated in favor of reg:squarederror.\n",
            "mean in first_cv_scores is -11845615967.56 and in second_cv_scores is -11585200815.09\n"
          ]
        }
      ]
    },
    {
      "cell_type": "markdown",
      "metadata": {
        "id": "Wpi85NSx1fZv"
      },
      "source": [
        "As you can see, the models perform well on the train set. On the other hand, a worse perforamnce occured on the test set (negative R square score : worse than the best constant predictor). This invites us to reconsider the data at our disposal as the model seems to overfit: validated through cross validations.\n",
        "\n",
        "In fact, our database presnts a large amount of data. Which is quite good for the learning process. In other words, not only more training data is always a good thing but also it is a way of counteracting overfitting. **Which is not the case here**. <font color='red'>The only way more data harms the models perforamnce is if the extra data is biased so the model will learn those biases. This is not due to excessive amounts of training data, though instead, it’s caused by bad data.</font>"
      ]
    },
    {
      "cell_type": "markdown",
      "metadata": {
        "id": "qEESuO84WGch"
      },
      "source": [
        "That invites us to reproduce the above pipeline while minimizing the data noise sources. That would be through:\n",
        "\n",
        "1. Get rid of rows with Nan values\n",
        "2. Squeeze the outiers tolerance intervalle"
      ]
    },
    {
      "cell_type": "code",
      "metadata": {
        "id": "IrgfGv0x4J9p"
      },
      "source": [
        "def get_rid_outliers(df, variable,scale):\n",
        "    upper_limit, lower_limit = outliers(df, variable,scale)\n",
        "    return df[(df[variable] >= lower_limit) & (df[variable] <= upper_limit)]"
      ],
      "execution_count": null,
      "outputs": []
    },
    {
      "cell_type": "code",
      "metadata": {
        "colab": {
          "base_uri": "https://localhost:8080/"
        },
        "id": "Z6WaTtMb4wX1",
        "outputId": "e441be54-111c-4611-bd67-a644733e9764"
      },
      "source": [
        "autos = pd.read_csv(path + 'autos.csv',encoding='latin-1')\n",
        "autos.shape"
      ],
      "execution_count": null,
      "outputs": [
        {
          "output_type": "execute_result",
          "data": {
            "text/plain": [
              "(371528, 20)"
            ]
          },
          "metadata": {},
          "execution_count": 471
        }
      ]
    },
    {
      "cell_type": "code",
      "metadata": {
        "colab": {
          "base_uri": "https://localhost:8080/"
        },
        "id": "qFz0-2P77NFr",
        "outputId": "c9e42964-d186-4f7d-98a4-b6af00bd8e05"
      },
      "source": [
        "autos = autos.dropna()\n",
        "autos.shape"
      ],
      "execution_count": null,
      "outputs": [
        {
          "output_type": "execute_result",
          "data": {
            "text/plain": [
              "(260956, 20)"
            ]
          },
          "metadata": {},
          "execution_count": 472
        }
      ]
    },
    {
      "cell_type": "code",
      "metadata": {
        "id": "hpKJyb-16ZDh"
      },
      "source": [
        "autos = get_rid_outliers(autos, 'price',1)\n",
        "autos = get_rid_outliers(autos, 'yearOfRegistration',1)\n",
        "autos = get_rid_outliers(autos, 'powerPS',1)\n",
        "autos = get_rid_outliers(autos, 'kilometer',1)\n",
        "autos = get_rid_outliers(autos, 'yearOfRegistration',1)"
      ],
      "execution_count": null,
      "outputs": []
    },
    {
      "cell_type": "code",
      "metadata": {
        "colab": {
          "base_uri": "https://localhost:8080/"
        },
        "id": "CtB7BZPP6tvb",
        "outputId": "c67870a2-b88f-40f0-fc9e-b08f71a331a5"
      },
      "source": [
        "autos.shape"
      ],
      "execution_count": null,
      "outputs": [
        {
          "output_type": "execute_result",
          "data": {
            "text/plain": [
              "(91898, 20)"
            ]
          },
          "metadata": {},
          "execution_count": 474
        }
      ]
    },
    {
      "cell_type": "code",
      "metadata": {
        "id": "T6rAr-jK7ixZ"
      },
      "source": [
        "prices = autos.price\n",
        "features = autos.drop('price',axis=1)"
      ],
      "execution_count": null,
      "outputs": []
    },
    {
      "cell_type": "code",
      "metadata": {
        "id": "ABUoWSK372e7"
      },
      "source": [
        "date_columns = ['dateCreated','dateCrawled','lastSeen']\n",
        "for date_column in date_columns:\n",
        "  features[date_column] = pd.to_datetime(features[date_column], format = '%Y-%m' ,errors = 'coerce')\n",
        "  features['{}_year'.format(date_column)] = features[date_column].dt.year\n",
        "  features['{}_month'.format(date_column)] = features[date_column].dt.month\n",
        "  features = features.drop(date_column, axis=1)\n",
        "features = features.drop(['dateCrawled_year','lastSeen_year'], axis=1)"
      ],
      "execution_count": null,
      "outputs": []
    },
    {
      "cell_type": "code",
      "metadata": {
        "id": "ca8n-VRK7vD7"
      },
      "source": [
        "numeric_features = features.select_dtypes(include=[np.number]).columns\n",
        "categorical_features = features.select_dtypes(exclude=[np.number]).columns"
      ],
      "execution_count": null,
      "outputs": []
    },
    {
      "cell_type": "code",
      "metadata": {
        "id": "ZOQtnASO7WlS"
      },
      "source": [
        "ord_enc = OrdinalEncoder()\n",
        "features[categorical_features] = ord_enc.fit_transform(features[categorical_features])\n",
        "var_thr = VarianceThreshold(threshold = 0.1) #Removing both constant and quasi-constant\n",
        "var_thr.fit(features)\n",
        "var_thr.get_support()\n",
        "features = features[list(features.columns[var_thr.get_support()])]"
      ],
      "execution_count": null,
      "outputs": []
    },
    {
      "cell_type": "code",
      "metadata": {
        "id": "VWH5WgkZ8AGV"
      },
      "source": [
        "cols = ['name', 'abtest', 'vehicleType', 'yearOfRegistration', 'gearbox',\n",
        "       'powerPS', 'model', 'kilometer', 'monthOfRegistration', 'fuelType',\n",
        "       'brand', 'postalCode', 'dateCreated_month', 'dateCrawled_month',\n",
        "       'lastSeen_month']\n",
        "X_train, X_test, y_train, y_test = train_test_split(features[cols], prices.loc[features.index], test_size=0.33, random_state=1)"
      ],
      "execution_count": null,
      "outputs": []
    },
    {
      "cell_type": "code",
      "metadata": {
        "colab": {
          "base_uri": "https://localhost:8080/"
        },
        "id": "KF24ropuCcFC",
        "outputId": "90901f07-4168-4b0d-c3b5-daa0fe3d25cc"
      },
      "source": [
        "degrees = [1, 2]\n",
        "\n",
        "y_train_pred = np.zeros((len(X_train), len(degrees)))\n",
        "y_test_pred = np.zeros((len(X_test), len(degrees)))\n",
        "for i, degree in enumerate(degrees):\n",
        "  model = make_pipeline(PolynomialFeatures(degree), LinearRegression())\n",
        "  model.fit(X_train, y_train)\n",
        "  # predict on test and train data\n",
        "  # store the predictions of each degree in the corresponding column\n",
        "  y_train_pred[:, i] = model.predict(X_train)\n",
        "  y_test_pred[:, i] = model.predict(X_test)\n",
        "\n",
        "for i, degree in enumerate(degrees):\n",
        "    train_r2 = sklearn.metrics.r2_score(y_train, y_train_pred[:, i])\n",
        "    train_mse = mean_squared_error(y_train, y_train_pred[:, i])\n",
        "    train_rmse = sqrt(train_mse)\n",
        "\n",
        "    test_r2 = sklearn.metrics.r2_score(y_test, y_test_pred[:, i])\n",
        "    test_mse = mean_squared_error(y_test, y_test_pred[:, i])\n",
        "    test_rmse = sqrt(test_mse)\n",
        "    print(\"Polynomial degree {}: train R2={}, train MSE={}, train RMSE={}, test R2={}\".format(degree, \n",
        "                                                                                            train_r2,\n",
        "                                                                                            train_mse, \n",
        "                                                                                            train_rmse,\n",
        "                                                                                            test_r2,\n",
        "                                                                                            test_mse,\n",
        "                                                                                            test_rmse,\n",
        "                                                                                            \n",
        "                                                                                            "
      ],
      "execution_count": null,
      "outputs": [
        {
          "output_type": "stream",
          "name": "stdout",
          "text": [
            "Polynomial degree 1: train R2=0.4524763716980925, train MSE=5441199.498907566, train RMSE=2332.6378842219738, test R2=0.49798187210039435\n",
            "Polynomial degree 2: train R2=0.5604640358925275, train MSE=4368035.905721114, train RMSE=2089.984666384209, test R2=0.6169084021022346\n"
          ]
        }
      ]
    },
    {
      "cell_type": "code",
      "metadata": {
        "colab": {
          "base_uri": "https://localhost:8080/"
        },
        "id": "6nRQmXpl79IL",
        "outputId": "de287034-e04e-4145-f870-8e4c48e6bb79"
      },
      "source": [
        "DTR = DecisionTreeRegressor(max_depth=7,random_state=33).fit(X_train,y_train)\n",
        "print('DecisionTreeRegressor Train Score is: ',DTR.score(X_train,y_train))\n",
        "predict_y=DTR.predict(X_test)\n",
        "print('DecisionTreeRegressor Test Score is: ',DTR.score(X_test,y_test))\n",
        "print(\"MSE:\",mean_squared_error(predict_y,y_test, multioutput='uniform_average'))\n",
        "print(\"RMSE:\",sqrt(mean_squared_error(predict_y,y_test, multioutput='uniform_average')))"
      ],
      "execution_count": null,
      "outputs": [
        {
          "output_type": "stream",
          "name": "stdout",
          "text": [
            "DecisionTreeRegressor Train Score is:  0.6533403089079732\n",
            "DecisionTreeRegressor Test Score is:  0.36576880252158617\n",
            "MSE: 5508409.982261824\n",
            "RMSE: 2347.0002092590075\n"
          ]
        }
      ]
    },
    {
      "cell_type": "code",
      "metadata": {
        "colab": {
          "base_uri": "https://localhost:8080/"
        },
        "id": "pTHCo60pA6mF",
        "outputId": "886cbb88-3476-4c0d-9768-0613a70153af"
      },
      "source": [
        "rfregressor = RandomForestRegressor().fit(X_train,y_train)\n",
        "predict_y = rfregressor.predict(X_test)\n",
        "print('Random Forest Regressor Train Score is : ' , rfregressor.score(X_train, y_train))\n",
        "print('Random Forest Regressor Test Score is : ' , rfregressor.score(X_test,y_test))\n",
        "print(\"MSE is:\",mean_squared_error(predict_y,y_test, multioutput='uniform_average'))\n",
        "print(\"RMSE:\",sqrt(mean_squared_error(predict_y,y_test, multioutput='uniform_average')))"
      ],
      "execution_count": null,
      "outputs": [
        {
          "output_type": "stream",
          "name": "stdout",
          "text": [
            "Random Forest Regressor Train Score is :  0.9583447988214956\n",
            "Random Forest Regressor Test Score is :  0.6963994580953539\n",
            "MSE is: 2636824.335189804\n",
            "RMSE: 1623.830143577155\n"
          ]
        }
      ]
    },
    {
      "cell_type": "code",
      "metadata": {
        "colab": {
          "base_uri": "https://localhost:8080/",
          "height": 299
        },
        "id": "6nbHcgR_C3nb",
        "outputId": "1efb271c-cd2c-40ac-9b4b-c20524deca69"
      },
      "source": [
        "df_imp = pd.DataFrame({'Features':features[cols].columns,'importances':rfregressor.feature_importances_})\n",
        "df_imp.sort_values('importances',inplace=True)\n",
        "df_imp.plot(kind='barh',y='importances',x='Features',color='b',title='Feature Importance')"
      ],
      "execution_count": null,
      "outputs": [
        {
          "output_type": "execute_result",
          "data": {
            "text/plain": [
              "<matplotlib.axes._subplots.AxesSubplot at 0x7f47e003a3d0>"
            ]
          },
          "metadata": {},
          "execution_count": 511
        },
        {
          "output_type": "display_data",
          "data": {
            "image/png": "[encoded data removed]",
            "text/plain": [
              "<Figure size 432x288 with 1 Axes>"
            ]
          },
          "metadata": {
            "needs_background": "light"
          }
        }
      ]
    },
    {
      "cell_type": "markdown",
      "metadata": {
        "id": "ees-1epqsmx3"
      },
      "source": [
        "The **powerPS**: the engine power is the most important feature of the Random Forest regressor. While the **year of regisration** and the **brand** came as second and third most important features. \n",
        "\n",
        "**lastSeen_months**, an engineered feature, is as important as the mileage and more important than fueltype and gearbow features."
      ]
    },
    {
      "cell_type": "code",
      "metadata": {
        "colab": {
          "base_uri": "https://localhost:8080/"
        },
        "id": "r_k18V1BBFT7",
        "outputId": "a2740169-155d-457e-ac5b-3311db23c890"
      },
      "source": [
        "XGBregressor = xgb.XGBRegressor().fit(X_train,y_train)\n",
        "predict_y = XGBregressor.predict(X_test)\n",
        "print('XGBOOST Regressor Train Score is : ' , XGBregressor.score(X_train, y_train))\n",
        "print('XGBOOST Regressor Test Score is : ' , XGBregressor.score(X_test,y_test))\n",
        "print(\"MSE of XGBOOST is:\",mean_squared_error(predict_y,y_test, multioutput='uniform_average'))\n",
        "print(\"RMSE:\",sqrt(mean_squared_error(predict_y,y_test, multioutput='uniform_average')))"
      ],
      "execution_count": null,
      "outputs": [
        {
          "output_type": "stream",
          "name": "stdout",
          "text": [
            "[23:52:24] WARNING: /workspace/src/objective/regression_obj.cu:152: reg:linear is now deprecated in favor of reg:squarederror.\n",
            "XGBOOST Regressor Train Score is :  0.665242759985003\n",
            "XGBOOST Regressor Test Score is :  0.721240880729069\n",
            "Mean Squared Error of XGBOOST is: 2421072.191565872\n",
            "RMSE: 1555.9794958693615\n"
          ]
        }
      ]
    },
    {
      "cell_type": "code",
      "metadata": {
        "id": "5CTG8LEEoTPI"
      },
      "source": [
        "import warnings\n",
        "warnings.filterwarnings('ignore')\n",
        "import numpy as np\n",
        "import pandas as pd\n",
        "from datetime import datetime\n",
        "from sklearn.model_selection import RandomizedSearchCV, GridSearchCV\n",
        "from sklearn.metrics import roc_auc_score\n",
        "from sklearn.model_selection import StratifiedKFold\n"
      ],
      "execution_count": null,
      "outputs": []
    },
    {
      "cell_type": "markdown",
      "metadata": {
        "id": "kV8InpIquJio"
      },
      "source": [
        "Tuning the hyper-parameters with grid search : we are tuning the XGBOOST regressor model since it had the best performance on the test set"
      ]
    },
    {
      "cell_type": "code",
      "metadata": {
        "colab": {
          "base_uri": "https://localhost:8080/"
        },
        "id": "otiBqHLVnuHn",
        "outputId": "127a0009-1a2a-49c5-83e3-b1388bf24658"
      },
      "source": [
        "xgb1 = xgb.XGBRegressor()\n",
        "parameters = {'nthread':[4], #when use hyperthread, xgboost may become slower\n",
        "              'objective':['reg:linear'],\n",
        "              'learning_rate': [.03, 0.05, .07], #so called `eta` value\n",
        "              'max_depth': [5, 6, 7],\n",
        "              'min_child_weight': [4],\n",
        "              'silent': [1],\n",
        "              'subsample': [0.7],\n",
        "              'colsample_bytree': [0.7],\n",
        "              'n_estimators': [500]}\n",
        "\n",
        "xgb_grid = GridSearchCV(xgb1,\n",
        "                        parameters,\n",
        "                        cv = 2,\n",
        "                        n_jobs = 5,\n",
        "                        verbose=True)\n",
        "\n",
        "xgb_grid.fit(X_train,y_train)\n",
        "\n",
        "print(xgb_grid.best_score_)\n",
        "print(xgb_grid.best_params_)"
      ],
      "execution_count": null,
      "outputs": [
        {
          "output_type": "stream",
          "name": "stdout",
          "text": [
            "Fitting 2 folds for each of 9 candidates, totalling 18 fits\n"
          ]
        },
        {
          "output_type": "stream",
          "name": "stderr",
          "text": [
            "[Parallel(n_jobs=5)]: Using backend LokyBackend with 5 concurrent workers.\n",
            "[Parallel(n_jobs=5)]: Done  18 out of  18 | elapsed:  4.5min finished\n"
          ]
        },
        {
          "output_type": "stream",
          "name": "stdout",
          "text": [
            "0.7124356727412372\n",
            "{'colsample_bytree': 0.7, 'learning_rate': 0.05, 'max_depth': 6, 'min_child_weight': 4, 'n_estimators': 500, 'nthread': 4, 'objective': 'reg:linear', 'silent': 1, 'subsample': 0.7}\n"
          ]
        }
      ]
    },
    {
      "cell_type": "code",
      "metadata": {
        "colab": {
          "base_uri": "https://localhost:8080/"
        },
        "id": "X6DtQmXTqq6U",
        "outputId": "bd30e6d5-8ca7-4736-c78a-60c3187cad71"
      },
      "source": [
        "XGBregressor_cv = xgb.XGBRegressor(colsample_bytree= 0.7, learning_rate= 0.05, max_depth= 6, min_child_weight= 4, n_estimators= 500, nthread= 4, objective= 'reg:linear', silent= 1, subsample= 0.7).fit(X_train,y_train)\n",
        "predict_y = XGBregressor_cv.predict(X_test)\n",
        "print('XGBOOST Regressor Train Score is : ' , XGBregressor_cv.score(X_train, y_train))\n",
        "print('XGBOOST Regressor Test Score is : ' , XGBregressor_cv.score(X_test,y_test))\n",
        "print(\"MSE of XGBOOST is:\",mean_squared_error(predict_y,y_test, multioutput='uniform_average'))\n",
        "print(\"RMSE:\",sqrt(mean_squared_error(predict_y,y_test, multioutput='uniform_average')))\n"
      ],
      "execution_count": null,
      "outputs": [
        {
          "output_type": "stream",
          "name": "stdout",
          "text": [
            "XGBOOST Regressor Train Score is :  0.828188750968209\n",
            "XGBOOST Regressor Test Score is :  0.7767374114487346\n",
            "MSE of XGBOOST is: 1939075.0192216174\n",
            "RMSE: 1392.5067393810407\n"
          ]
        }
      ]
    },
    {
      "cell_type": "code",
      "metadata": {
        "colab": {
          "base_uri": "https://localhost:8080/",
          "height": 283
        },
        "id": "nZCiY2rXsLys",
        "outputId": "158978ef-e37e-418a-b178-faadb5aaa7f8"
      },
      "source": [
        "df_imp = pd.DataFrame({'Features':features[cols].columns,'importances':XGBregressor1.feature_importances_})\n",
        "df_imp.sort_values('importances',inplace=True)\n",
        "df_imp.plot(kind='barh',y='importances',x='Features',color='b')"
      ],
      "execution_count": null,
      "outputs": [
        {
          "output_type": "execute_result",
          "data": {
            "text/plain": [
              "<matplotlib.axes._subplots.AxesSubplot at 0x7f47deba5950>"
            ]
          },
          "metadata": {},
          "execution_count": 510
        },
        {
          "output_type": "display_data",
          "data": {
            "image/png": "[encoded data removed]",
            "text/plain": [
              "<Figure size 432x288 with 1 Axes>"
            ]
          },
          "metadata": {
            "needs_background": "light"
          }
        }
      ]
    },
    {
      "cell_type": "markdown",
      "metadata": {
        "id": "QtKdy-qUCQrN"
      },
      "source": [
        "Compared to the Random forest regressor, the **year of registration** feature comes as the most important variable when predicting the price while **powerPS** and the **gearbox** features are second and third. Similary, **lastSeen_months** was quite important for the model in the regression task."
      ]
    },
    {
      "cell_type": "markdown",
      "metadata": {
        "id": "vuaJ_S4YB-Hf"
      },
      "source": [
        "## **III - Interpretabilty with SHAP**"
      ]
    },
    {
      "cell_type": "markdown",
      "metadata": {
        "id": "Td1aki9twOYe"
      },
      "source": [
        "To understand why the model had such feature importances calculated, shap values come as an interpretability tool thanks to which we have the opportunity to get into the black box and see in detail why the model had such decisions."
      ]
    },
    {
      "cell_type": "code",
      "metadata": {
        "colab": {
          "base_uri": "https://localhost:8080/"
        },
        "id": "bL5EYbg1CTSG",
        "outputId": "5ecf77a8-e9c5-40ef-96e3-b52199b80ed7"
      },
      "source": [
        "! pip install shap"
      ],
      "execution_count": null,
      "outputs": [
        {
          "output_type": "stream",
          "name": "stdout",
          "text": [
            "Collecting shap\n",
            "  Downloading shap-0.40.0.tar.gz (371 kB)\n",
            "\u001b[K     |████████████████████████████████| 371 kB 5.1 MB/s \n",
            "\u001b[?25h  Installing build dependencies ... \u001b[?25l\u001b[?25hdone\n",
            "  Getting requirements to build wheel ... \u001b[?25l\u001b[?25hdone\n",
            "    Preparing wheel metadata ... \u001b[?25l\u001b[?25hdone\n",
            "Requirement already satisfied: scipy in /usr/local/lib/python3.7/dist-packages (from shap) (1.4.1)\n",
            "Requirement already satisfied: pandas in /usr/local/lib/python3.7/dist-packages (from shap) (1.1.5)\n",
            "Requirement already satisfied: numpy in /usr/local/lib/python3.7/dist-packages (from shap) (1.19.5)\n",
            "Requirement already satisfied: numba in /usr/local/lib/python3.7/dist-packages (from shap) (0.51.2)\n",
            "Requirement already satisfied: tqdm>4.25.0 in /usr/local/lib/python3.7/dist-packages (from shap) (4.62.3)\n",
            "Requirement already satisfied: scikit-learn in /usr/local/lib/python3.7/dist-packages (from shap) (0.22.2.post1)\n",
            "Requirement already satisfied: packaging>20.9 in /usr/local/lib/python3.7/dist-packages (from shap) (21.0)\n",
            "Requirement already satisfied: cloudpickle in /usr/local/lib/python3.7/dist-packages (from shap) (1.3.0)\n",
            "Collecting slicer==0.0.7\n",
            "  Downloading slicer-0.0.7-py3-none-any.whl (14 kB)\n",
            "Requirement already satisfied: pyparsing>=2.0.2 in /usr/local/lib/python3.7/dist-packages (from packaging>20.9->shap) (2.4.7)\n",
            "Requirement already satisfied: setuptools in /usr/local/lib/python3.7/dist-packages (from numba->shap) (57.4.0)\n",
            "Requirement already satisfied: llvmlite<0.35,>=0.34.0.dev0 in /usr/local/lib/python3.7/dist-packages (from numba->shap) (0.34.0)\n",
            "Requirement already satisfied: pytz>=2017.2 in /usr/local/lib/python3.7/dist-packages (from pandas->shap) (2018.9)\n",
            "Requirement already satisfied: python-dateutil>=2.7.3 in /usr/local/lib/python3.7/dist-packages (from pandas->shap) (2.8.2)\n",
            "Requirement already satisfied: six>=1.5 in /usr/local/lib/python3.7/dist-packages (from python-dateutil>=2.7.3->pandas->shap) (1.15.0)\n",
            "Requirement already satisfied: joblib>=0.11 in /usr/local/lib/python3.7/dist-packages (from scikit-learn->shap) (1.0.1)\n",
            "Building wheels for collected packages: shap\n",
            "  Building wheel for shap (PEP 517) ... \u001b[?25l\u001b[?25hdone\n",
            "  Created wheel for shap: filename=shap-0.40.0-cp37-cp37m-linux_x86_64.whl size=509238 sha256=f06c5148a892ac308dea1ca6554690f2070cccfc9b510decd36f8de726af8bfb\n",
            "  Stored in directory: /root/.cache/pip/wheels/ec/35/84/e304841ac4b910bc95fe9a6e5302eb2507b4333728851dcbfb\n",
            "Successfully built shap\n",
            "Installing collected packages: slicer, shap\n",
            "Successfully installed shap-0.40.0 slicer-0.0.7\n"
          ]
        }
      ]
    },
    {
      "cell_type": "code",
      "metadata": {
        "id": "vjrcoaGHCLqW"
      },
      "source": [
        "import shap"
      ],
      "execution_count": null,
      "outputs": []
    },
    {
      "cell_type": "code",
      "metadata": {
        "id": "uVlyYRzlFAgU"
      },
      "source": [
        "shap_values = shap.TreeExplainer(XGBregressor_cv).shap_values(X_test)"
      ],
      "execution_count": null,
      "outputs": []
    },
    {
      "cell_type": "code",
      "metadata": {
        "colab": {
          "base_uri": "https://localhost:8080/",
          "height": 477
        },
        "id": "wdCf8FAcvTeM",
        "outputId": "8e478756-928f-45fa-dfda-b301c19dac47"
      },
      "source": [
        "shap.summary_plot(shap_values, X_test)"
      ],
      "execution_count": null,
      "outputs": [
        {
          "output_type": "display_data",
          "data": {
            "image/png": "[encoded data removed]",
            "text/plain": [
              "<Figure size 576x540 with 2 Axes>"
            ]
          },
          "metadata": {
            "needs_background": "light"
          }
        }
      ]
    },
    {
      "cell_type": "markdown",
      "metadata": {
        "id": "nnt18oaowDi9"
      },
      "source": [
        "For each feature a distribution is plotted on how the train samples influence the model outcome. The more red the dots, the higher the feature value, the more blue the lower the feature value. On the other hand, the more the dots get in the positive mi-space the higher its impact on increasing the price and vice versa.\n",
        "\n",
        "For instance, the higher the year of registration gets ( red color) the higher the price gets ( positive impact) which is quite inuitive. The same scenario for the PowerPS feature.\n",
        "On the contrary, the less the mileage gets (blue color) the higher the price gets.\n",
        "\n",
        "As you can notice through those examples, the model had very intuitive decision based on the above features. Apart from that, having a high R2 score on the test set (0.77) proves that the XGBoost model generalizes well his decesion rule on foorseein gthe price.\n",
        "\n",
        "We can also look at a single datapoint and identify how a single datapoint was predicted using a decision plot. In this example that corresponds to a Limousine, the model predicted a high price value mainly due to a large deviation in model, PewerPS and the Brand."
      ]
    },
    {
      "cell_type": "code",
      "metadata": {
        "colab": {
          "base_uri": "https://localhost:8080/",
          "height": 508
        },
        "id": "m6M2kZLKxUWa",
        "outputId": "fd65044a-a961-4474-9652-170f9d44602f"
      },
      "source": [
        "i = 6\n",
        "X_test_ = X_test.to_numpy()\n",
        "shap.decision_plot(shap.TreeExplainer(XGBregressor1).expected_value, shap_values[i], X_test_[i], feature_names = list(X_test.columns))\n",
        "print(mapping_vehicleType[X_test.iloc[i]['vehicleType']])"
      ],
      "execution_count": null,
      "outputs": [
        {
          "output_type": "display_data",
          "data": {
            "image/png": "[encoded data removed]",
            "text/plain": [
              "<Figure size 576x540 with 1 Axes>"
            ]
          },
          "metadata": {
            "needs_background": "light"
          }
        },
        {
          "output_type": "stream",
          "name": "stdout",
          "text": [
            "limousine\n"
          ]
        }
      ]
    }
  ]
}